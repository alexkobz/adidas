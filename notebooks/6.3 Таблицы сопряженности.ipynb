{
 "cells": [
  {
   "cell_type": "markdown",
   "id": "d7243f1e",
   "metadata": {},
   "source": [
    "# 6.3 Таблицы сопряженности"
   ]
  },
  {
   "cell_type": "code",
   "execution_count": 1,
   "id": "d79bc4ee",
   "metadata": {},
   "outputs": [],
   "source": [
    "import scipy.stats as sps\n",
    "import numpy as np"
   ]
  },
  {
   "cell_type": "markdown",
   "id": "ef163da1",
   "metadata": {},
   "source": [
    "Критерий chi2"
   ]
  },
  {
   "cell_type": "markdown",
   "id": "a79fd722",
   "metadata": {},
   "source": [
    "Способ применения Благополучный результат  Неблагополучный результат\n",
    "\n",
    "A            20             11\n",
    "\n",
    "B            23             17\n",
    "\n",
    "C            19             16\n",
    "\n"
   ]
  },
  {
   "cell_type": "code",
   "execution_count": 2,
   "id": "8ee18436",
   "metadata": {},
   "outputs": [],
   "source": [
    "alpha = 0.05"
   ]
  },
  {
   "cell_type": "markdown",
   "id": "8d7c8c6c",
   "metadata": {},
   "source": [
    "Чему равен объем выборки?"
   ]
  },
  {
   "cell_type": "code",
   "execution_count": 62,
   "id": "01287eef",
   "metadata": {},
   "outputs": [
    {
     "data": {
      "text/plain": [
       "106"
      ]
     },
     "execution_count": 62,
     "metadata": {},
     "output_type": "execute_result"
    }
   ],
   "source": [
    "nij = np.array([[20, 11], [23, 17], [19, 16]]) # Таблица сопряженности\n",
    "n = nij.sum() # общее кол-во наблюдений в таблице сопряженности\n",
    "n"
   ]
  },
  {
   "cell_type": "markdown",
   "id": "1698a47e",
   "metadata": {},
   "source": [
    "Найдите выборочное значение статистики критерия?"
   ]
  },
  {
   "cell_type": "code",
   "execution_count": 63,
   "id": "7de4cf3a",
   "metadata": {},
   "outputs": [
    {
     "data": {
      "text/plain": [
       "0.7346258969958243"
      ]
     },
     "execution_count": 63,
     "metadata": {},
     "output_type": "execute_result"
    }
   ],
   "source": [
    "mi = np.array([[sum(nij[i,:]) for i in range(nij.shape[0])]]).T\n",
    "nj = np.array([[sum(nij[:, j]) for j in range(nij.shape[1])]])\n",
    "\n",
    "minj = np.dot(mi, nj) # таблица (матрица) произведений mi*nj\n",
    "\n",
    "# Формула расчета выборочного Хи-квадрат:\n",
    "xi2v = ((nij- minj/n)**2 / (minj/n)).sum()\n",
    "xi2v\n",
    "# тестовый расчет для проверки формулы \n",
    "# с использованием библиотечной функции\n",
    "# scipy.stats.chi2_contingency\n",
    "# xi2_test = sps.chi2_contingency(nij)[0]"
   ]
  },
  {
   "cell_type": "markdown",
   "id": "6c7d36f7",
   "metadata": {},
   "source": [
    "Найдите квантиль, участвующий в формировании критической области"
   ]
  },
  {
   "cell_type": "code",
   "execution_count": 13,
   "id": "3eb9efaa",
   "metadata": {},
   "outputs": [
    {
     "data": {
      "text/plain": [
       "5.991464547107979"
      ]
     },
     "execution_count": 13,
     "metadata": {},
     "output_type": "execute_result"
    }
   ],
   "source": [
    "s = 2\n",
    "r = 3\n",
    "sps.chi2.ppf(1-alpha, (s-1)*(r-1))"
   ]
  },
  {
   "cell_type": "markdown",
   "id": "44d6502a",
   "metadata": {},
   "source": [
    "Критерий Фишера"
   ]
  },
  {
   "cell_type": "markdown",
   "id": "0130d894",
   "metadata": {},
   "source": [
    "B 1-й группе тромбоз произошел у 3 из 4 больных, во 2-й — у 1 из 3."
   ]
  },
  {
   "cell_type": "code",
   "execution_count": 16,
   "id": "c93665b4",
   "metadata": {},
   "outputs": [],
   "source": [
    "def sortmin(arr):\n",
    "    argmin = arr.argmin()\n",
    "    row_num = argmin//arr.shape[1]\n",
    "    col_num = argmin%arr.shape[1]\n",
    "    \n",
    "    col_0 = arr[:,0].copy()\n",
    "    arr[:,0] = arr[:,col_num]\n",
    "    arr[:,col_num] = col_0\n",
    "    \n",
    "    row_0 = arr[0, :].copy()\n",
    "    arr[0, :] =  arr[row_num, :]\n",
    "    arr[row_num, :] = row_0\n",
    "    \n",
    "    return arr"
   ]
  },
  {
   "cell_type": "code",
   "execution_count": 39,
   "id": "bbaea53f",
   "metadata": {},
   "outputs": [],
   "source": [
    "def get_tab(x, n, m):\n",
    "    return np.array([[x, n[0]-x],[m[0]-x, n[1]-m[0]+x]])"
   ]
  },
  {
   "cell_type": "code",
   "execution_count": 54,
   "id": "bf30a93a",
   "metadata": {},
   "outputs": [],
   "source": [
    "kk1 = np.array([[3, 1], [1, 2]])\n",
    "kk = sortmin(kk1)"
   ]
  },
  {
   "cell_type": "code",
   "execution_count": 48,
   "id": "541f8c18",
   "metadata": {},
   "outputs": [],
   "source": [
    "n = np.array([kk[k,:].sum()  for k in range(kk.shape[0])])\n",
    "m = np.array([kk[:,k].sum()  for k in range(kk.shape[1])])\n",
    "nm = np.array([n,m])\n"
   ]
  },
  {
   "cell_type": "code",
   "execution_count": 49,
   "id": "c6178185",
   "metadata": {},
   "outputs": [],
   "source": [
    "import math as mt\n",
    "vfact = np.vectorize(lambda n: float(mt.factorial(n))) # векторизованный факториал\n",
    "pf = vfact(nm).prod()/float(mt.factorial(kk.sum()))\n",
    "ps = np.array([pf/vfact(get_tab(x, n, m)).prod() for x in range(min(m[0], n[0])+1)]) # min(m[0], n[0])\n"
   ]
  },
  {
   "cell_type": "code",
   "execution_count": 51,
   "id": "77ecdf87",
   "metadata": {},
   "outputs": [],
   "source": [
    "kmin = kk[0,0]\n",
    "p_less = ps[:kmin+1]\n",
    "p_greater = ps[kmin:]"
   ]
  },
  {
   "cell_type": "code",
   "execution_count": 55,
   "id": "015ffaaf",
   "metadata": {},
   "outputs": [
    {
     "data": {
      "text/plain": [
       "(0.16666666666666666, 0.4857142857142858)"
      ]
     },
     "execution_count": 55,
     "metadata": {},
     "output_type": "execute_result"
    }
   ],
   "source": [
    "sps.fisher_exact(kk, alternative='two-sided')"
   ]
  }
 ],
 "metadata": {
  "kernelspec": {
   "display_name": "Python 3 (ipykernel)",
   "language": "python",
   "name": "python3"
  },
  "language_info": {
   "codemirror_mode": {
    "name": "ipython",
    "version": 3
   },
   "file_extension": ".py",
   "mimetype": "text/x-python",
   "name": "python",
   "nbconvert_exporter": "python",
   "pygments_lexer": "ipython3",
   "version": "3.7.9"
  }
 },
 "nbformat": 4,
 "nbformat_minor": 5
}
