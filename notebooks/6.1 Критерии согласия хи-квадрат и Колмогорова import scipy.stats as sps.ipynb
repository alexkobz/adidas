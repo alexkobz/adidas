{
 "cells": [
  {
   "cell_type": "markdown",
   "id": "48be0a64",
   "metadata": {},
   "source": [
    "# 6.1 Критерии согласия хи-квадрат и Колмогорова"
   ]
  },
  {
   "cell_type": "code",
   "execution_count": 3,
   "id": "cecaa0b8",
   "metadata": {},
   "outputs": [],
   "source": [
    "import scipy.stats as sps\n",
    "import numpy as np"
   ]
  },
  {
   "cell_type": "markdown",
   "id": "a9732d8b",
   "metadata": {},
   "source": [
    "Исследователь Василий по выборке\n",
    "\n",
    "0.29 0.01 0.50 0.21 0.65 0.34 0.75 0.07 0.07 0.25 1.26 0.11 0.22 0.95 0.63 0.93 0.73 0.37 0.80 1.10\n",
    "\n",
    "проверяет гипотезу об экспоненциальном законе распределения с параметром λ=2λ2 генеральной совокупности. Найдите  вероятность попадания генеральной совокупности в интервал (0.2, 0.5]  при условии, что верна нулевая гипотеза"
   ]
  },
  {
   "cell_type": "code",
   "execution_count": 5,
   "id": "9deaf095",
   "metadata": {},
   "outputs": [],
   "source": [
    "X = np.array([0.29, 0.01, 0.50, 0.21, 0.65, 0.34, 0.75, 0.07, 0.07, 0.25, 1.26, 0.11, 0.22, 0.95, 0.63, 0.93, 0.73, 0.37, 0.80, 1.10])"
   ]
  },
  {
   "cell_type": "code",
   "execution_count": 9,
   "id": "a9457d0b",
   "metadata": {},
   "outputs": [
    {
     "data": {
      "text/plain": [
       "0.302440604864197"
      ]
     },
     "execution_count": 9,
     "metadata": {},
     "output_type": "execute_result"
    }
   ],
   "source": [
    "l = 2\n",
    "np.exp(-l*0.2) - np.exp(-l*0.5)"
   ]
  },
  {
   "cell_type": "markdown",
   "id": "0cf59c7d",
   "metadata": {},
   "source": [
    "Критерий согласия хи-квадрат"
   ]
  },
  {
   "cell_type": "code",
   "execution_count": 15,
   "id": "c1fc5ff4",
   "metadata": {},
   "outputs": [
    {
     "data": {
      "text/plain": [
       "9.21034037197618"
      ]
     },
     "execution_count": 15,
     "metadata": {},
     "output_type": "execute_result"
    }
   ],
   "source": [
    "alpha = 0.01\n",
    "sps.chi2.ppf(1 - alpha, 2)"
   ]
  },
  {
   "cell_type": "code",
   "execution_count": 42,
   "id": "2db4c1ac",
   "metadata": {},
   "outputs": [
    {
     "data": {
      "text/plain": [
       "array([4, 7, 9])"
      ]
     },
     "execution_count": 42,
     "metadata": {},
     "output_type": "execute_result"
    }
   ],
   "source": [
    "n = len(X)\n",
    "n1 = 0\n",
    "n2 = 0\n",
    "n3 = 0\n",
    "for i in X:\n",
    "    if i >= 0 and i <= 0.2:\n",
    "        n1 += 1\n",
    "    elif i > 0.2 and i <= 0.5:\n",
    "        n2 += 1\n",
    "    elif i > 0.5:\n",
    "        n3 += 1\n",
    "ni = np.array([n1, n2, n3])\n",
    "ni"
   ]
  },
  {
   "cell_type": "code",
   "execution_count": 48,
   "id": "556c3932",
   "metadata": {},
   "outputs": [
    {
     "data": {
      "text/plain": [
       "array([0.32967995, 0.3024406 , 0.36787944])"
      ]
     },
     "execution_count": 48,
     "metadata": {},
     "output_type": "execute_result"
    }
   ],
   "source": [
    "p1 = np.exp(-l*0.0) - np.exp(-l*0.2)\n",
    "p2 = np.exp(-l*0.2) - np.exp(-l*0.5)\n",
    "p3 = np.exp(-l*0.5) - 0\n",
    "pi = np.array([p1, p2, p3])\n",
    "pi"
   ]
  },
  {
   "cell_type": "code",
   "execution_count": 50,
   "id": "381d4aee",
   "metadata": {},
   "outputs": [
    {
     "data": {
      "text/plain": [
       "1.5364013495934465"
      ]
     },
     "execution_count": 50,
     "metadata": {},
     "output_type": "execute_result"
    }
   ],
   "source": [
    "f = lambda ni, pi: (ni - n*pi)**2/(n*pi)\n",
    "par = sum((f(n1, p1), f(n2, p2), f(n3, p3)))\n",
    "par\n"
   ]
  },
  {
   "cell_type": "code",
   "execution_count": 53,
   "id": "4d2607a9",
   "metadata": {},
   "outputs": [
    {
     "data": {
      "text/plain": [
       "1.5364013495934463"
      ]
     },
     "execution_count": 53,
     "metadata": {},
     "output_type": "execute_result"
    }
   ],
   "source": [
    "chisq2 =n*((ni/n-pi)**2/(pi)).sum() \n",
    "chisq2"
   ]
  },
  {
   "cell_type": "markdown",
   "id": "7e0f3b9d",
   "metadata": {},
   "source": [
    "Критерий согласия Колмогорова"
   ]
  },
  {
   "cell_type": "code",
   "execution_count": 66,
   "id": "202022c2",
   "metadata": {},
   "outputs": [
    {
     "data": {
      "text/plain": [
       "0.45010633921368626"
      ]
     },
     "execution_count": 66,
     "metadata": {},
     "output_type": "execute_result"
    }
   ],
   "source": [
    "a = np.array([451, 450, 444, 454, 447])\n",
    "m, sigma = 450, 4\n",
    "Dn1, _ = sps.kstest(a, lambda x: sps.norm.cdf(x, loc=m, scale=sigma))\n",
    "Dn1*np.sqrt(5)\n",
    "# sps.kstest(, (450, 4))"
   ]
  },
  {
   "cell_type": "code",
   "execution_count": 128,
   "id": "7c02b734",
   "metadata": {},
   "outputs": [
    {
     "data": {
      "text/plain": [
       "[<matplotlib.lines.Line2D at 0x11dddb4bd08>]"
      ]
     },
     "execution_count": 128,
     "metadata": {},
     "output_type": "execute_result"
    },
    {
     "data": {
      "image/png": "[encoded data removed]",
      "text/plain": [
       "<Figure size 640x480 with 1 Axes>"
      ]
     },
     "metadata": {},
     "output_type": "display_data"
    }
   ],
   "source": [
    "import numpy as np\n",
    "import math as mt\n",
    "import matplotlib.pyplot as plt\n",
    "\n",
    "def poison(lmbd, k):\n",
    "    return (lmbd**k/mt.factorial(k))*mt.exp(-lmbd)\n",
    "\n",
    "X = np.array([427, 235, 72, 21, 1, 1, 0])\n",
    "\n",
    "lambda_x = 0.6\n",
    "\n",
    "K = range(len(X))\n",
    "\n",
    "# Теоретическое распределение вероятностей Пуассона:\n",
    "P = [poison(lambda_x , k) for k in K]\n",
    "\n",
    "# Наблюдаемое распределение вероятностей \n",
    "p_h = X/X.sum()\n",
    "\n",
    "# Графики \n",
    "plt.plot(K,P)\n",
    "plt.plot(K,p_h)"
   ]
  },
  {
   "cell_type": "markdown",
   "id": "c42b23bc",
   "metadata": {},
   "source": [
    "Найдите ожидаемое число приборов, имевших  3 отказа за 10000 часов работы"
   ]
  },
  {
   "cell_type": "code",
   "execution_count": 127,
   "id": "732414f6",
   "metadata": {},
   "outputs": [
    {
     "data": {
      "text/plain": [
       "14.956214706834409"
      ]
     },
     "execution_count": 127,
     "metadata": {},
     "output_type": "execute_result"
    }
   ],
   "source": [
    "sps.poisson.pmf(3, 0.6)*X.sum()"
   ]
  },
  {
   "cell_type": "markdown",
   "id": "60c57438",
   "metadata": {},
   "source": [
    "Найдите выборочное значение статистики критерия"
   ]
  },
  {
   "cell_type": "code",
   "execution_count": 140,
   "id": "4ffdf6ab",
   "metadata": {},
   "outputs": [],
   "source": [
    "n = X.sum()\n",
    "n0 = 427\n",
    "n1 = 235\n",
    "n2 = 72\n",
    "n3 = 23\n",
    "p0 = sps.poisson.pmf(0, 0.6)\n",
    "p1 = sps.poisson.pmf(1, 0.6)\n",
    "p2 = sps.poisson.pmf(2, 0.6)\n",
    "p3 = 1 - p0 - p1 - p2"
   ]
  },
  {
   "cell_type": "code",
   "execution_count": 143,
   "id": "aa2935ab",
   "metadata": {},
   "outputs": [
    {
     "data": {
      "text/plain": [
       "2.971279665208087"
      ]
     },
     "execution_count": 143,
     "metadata": {},
     "output_type": "execute_result"
    }
   ],
   "source": [
    "par = sum((f(n0, p0), f(n1, p1), f(n2, p2), f(n3, p3)))\n",
    "par"
   ]
  },
  {
   "cell_type": "code",
   "execution_count": 146,
   "id": "5a042a16",
   "metadata": {},
   "outputs": [
    {
     "data": {
      "text/plain": [
       "9.21034037197618"
      ]
     },
     "execution_count": 146,
     "metadata": {},
     "output_type": "execute_result"
    }
   ],
   "source": [
    "alpha = 0.01\n",
    "k = 4\n",
    "l = 1\n",
    "sps.chi2.ppf(1-alpha, k-l-1, loc=0, scale=1)"
   ]
  }
 ],
 "metadata": {
  "kernelspec": {
   "display_name": "Python 3 (ipykernel)",
   "language": "python",
   "name": "python3"
  },
  "language_info": {
   "codemirror_mode": {
    "name": "ipython",
    "version": 3
   },
   "file_extension": ".py",
   "mimetype": "text/x-python",
   "name": "python",
   "nbconvert_exporter": "python",
   "pygments_lexer": "ipython3",
   "version": "3.7.9"
  }
 },
 "nbformat": 4,
 "nbformat_minor": 5
}
