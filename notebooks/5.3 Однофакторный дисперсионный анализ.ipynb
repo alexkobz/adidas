{
 "cells": [
  {
   "cell_type": "markdown",
   "id": "6a57c1ce",
   "metadata": {},
   "source": [
    "# 5.3 Однофакторный дисперсионный анализ"
   ]
  },
  {
   "cell_type": "code",
   "execution_count": 19,
   "id": "9dbb072f",
   "metadata": {},
   "outputs": [],
   "source": [
    "import scipy.stats as sps\n",
    "import numpy as np"
   ]
  },
  {
   "cell_type": "code",
   "execution_count": 20,
   "id": "220c265a",
   "metadata": {},
   "outputs": [],
   "source": [
    "def Q1Q2(*x):\n",
    "    n = np.array([len(xi) for xi in x]) # объемы выборок\n",
    "    N = n.sum()\n",
    "    \n",
    "    xms = [xi.mean() for xi in x] # средние выборок\n",
    "    xm = sum([xi.sum() for xi in x])/N # средняя по всем выборкам\n",
    "    \n",
    "    Q1 = sum([((xi-xmi)**2).sum() for xi, xmi in zip(x,xms)])\n",
    "    Q2 = np.dot(n, (xms-xm)**2)\n",
    "    \n",
    "    return Q1, Q2, N"
   ]
  },
  {
   "cell_type": "code",
   "execution_count": 21,
   "id": "8b8b633e",
   "metadata": {},
   "outputs": [],
   "source": [
    "x1 = np.array([5.9, 6.0, 7.0, 6.5, 5.5, 7.0, 8.1, 7.5, 6.2, 6.4, 7.1, 6.9])\n",
    "x2 = np.array([4.0, 5.1, 6.2, 5.3, 4.5, 4.4, 5.3, 5.4,5.6,5.2])\n",
    "x3 = np.array([8.2, 6.8, 8.0, 7.5, 7.2, 7.9, 8.1, 8.5, 7.8, 8.1])"
   ]
  },
  {
   "cell_type": "code",
   "execution_count": 42,
   "id": "a3de4848",
   "metadata": {},
   "outputs": [
    {
     "data": {
      "text/plain": [
       "0.41212068965517235"
      ]
     },
     "execution_count": 42,
     "metadata": {},
     "output_type": "execute_result"
    }
   ],
   "source": [
    "Q1, Q2, N = Q1Q2(x1,x2,x3)\n",
    "k = 3\n",
    "alpha = 0.1\n",
    "Q1/(N-k)"
   ]
  },
  {
   "cell_type": "code",
   "execution_count": 45,
   "id": "f6054967",
   "metadata": {},
   "outputs": [],
   "source": [
    "Fb = Q2/(k-1)/(Q1/(N-k))"
   ]
  },
  {
   "cell_type": "markdown",
   "id": "f1081df5",
   "metadata": {},
   "source": [
    "scipy.stats.f - распределение Фишера F(1-alpha, k-1, N-k)"
   ]
  },
  {
   "cell_type": "code",
   "execution_count": 57,
   "id": "12b5849a",
   "metadata": {},
   "outputs": [
    {
     "data": {
      "text/plain": [
       "2.4954833142354644"
      ]
     },
     "execution_count": 57,
     "metadata": {},
     "output_type": "execute_result"
    }
   ],
   "source": [
    "F = sps.f.ppf(1-alpha, k-1, N-k)\n",
    "F"
   ]
  },
  {
   "cell_type": "markdown",
   "id": "0d8cc5d8",
   "metadata": {},
   "source": [
    "выборочное значение статистики критерия"
   ]
  },
  {
   "cell_type": "code",
   "execution_count": 51,
   "id": "adb01bf4",
   "metadata": {},
   "outputs": [
    {
     "data": {
      "text/plain": [
       "(44.991068066769834, True)"
      ]
     },
     "execution_count": 51,
     "metadata": {},
     "output_type": "execute_result"
    }
   ],
   "source": [
    "Fb, Fb > F"
   ]
  },
  {
   "cell_type": "markdown",
   "id": "8e33fd7c",
   "metadata": {},
   "source": [
    "Сетод линейных констрастов\n",
    "\n",
    "точечная оценка линейного контраста для проверки частной нулевой гипотезы о равенстве среднего времени химической реакции при содержании катализатора  5% и 10% "
   ]
  },
  {
   "cell_type": "code",
   "execution_count": 53,
   "id": "09f0b8f5",
   "metadata": {},
   "outputs": [],
   "source": [
    "Lk = sum(x1)/len(x1) - sum(x2)/len(x2)"
   ]
  },
  {
   "cell_type": "markdown",
   "id": "a0c64747",
   "metadata": {},
   "source": [
    "Границы доверительного интервала"
   ]
  },
  {
   "cell_type": "code",
   "execution_count": 54,
   "id": "fa1fd9c2",
   "metadata": {},
   "outputs": [],
   "source": [
    "S = Q1/(N-k)*(1/len(x1) + 1/len(x2))"
   ]
  },
  {
   "cell_type": "code",
   "execution_count": 60,
   "id": "c80a5a6b",
   "metadata": {},
   "outputs": [
    {
     "data": {
      "text/plain": [
       "(0.96091956690396, 2.1890804330960423)"
      ]
     },
     "execution_count": 60,
     "metadata": {},
     "output_type": "execute_result"
    }
   ],
   "source": [
    "Lk - (S*((k-1)*F))**0.5, Lk + (S*((k-1)*F))**0.5"
   ]
  },
  {
   "cell_type": "markdown",
   "id": "acc47171",
   "metadata": {},
   "source": [
    "Найдите средний ранг болевого барьера для  светлых брюнетов"
   ]
  },
  {
   "cell_type": "code",
   "execution_count": 63,
   "id": "d5a2d581",
   "metadata": {},
   "outputs": [],
   "source": [
    "y1 = [62, 60, 71, 55, 48]\n",
    "y2 = [63, 57, 52, 41, 43]\n",
    "y3 = [42, 50, 44, 37]\n",
    "y4 = [32, 39, 51, 30, 35]\n",
    "all = y1 + y2 + y3 + y4"
   ]
  },
  {
   "cell_type": "code",
   "execution_count": 72,
   "id": "b6e90ad6",
   "metadata": {},
   "outputs": [
    {
     "data": {
      "text/plain": [
       "7.75"
      ]
     },
     "execution_count": 72,
     "metadata": {},
     "output_type": "execute_result"
    }
   ],
   "source": [
    "rank = sps.rankdata(all)\n",
    "sum(rank[10:14])/4"
   ]
  },
  {
   "cell_type": "markdown",
   "id": "f2fb0a49",
   "metadata": {},
   "source": [
    "выборочное значение статистики критерия "
   ]
  },
  {
   "cell_type": "code",
   "execution_count": 76,
   "id": "e4218681",
   "metadata": {},
   "outputs": [
    {
     "data": {
      "text/plain": [
       "KruskalResult(statistic=10.14473684210526, pvalue=0.017375049894891817)"
      ]
     },
     "execution_count": 76,
     "metadata": {},
     "output_type": "execute_result"
    }
   ],
   "source": [
    "sps.kruskal(y1, y2, y3, y4)"
   ]
  }
 ],
 "metadata": {
  "kernelspec": {
   "display_name": "Python 3 (ipykernel)",
   "language": "python",
   "name": "python3"
  },
  "language_info": {
   "codemirror_mode": {
    "name": "ipython",
    "version": 3
   },
   "file_extension": ".py",
   "mimetype": "text/x-python",
   "name": "python",
   "nbconvert_exporter": "python",
   "pygments_lexer": "ipython3",
   "version": "3.7.9"
  }
 },
 "nbformat": 4,
 "nbformat_minor": 5
}
