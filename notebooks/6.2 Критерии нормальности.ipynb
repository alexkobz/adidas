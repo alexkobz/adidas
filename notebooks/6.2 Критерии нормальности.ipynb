{
 "cells": [
  {
   "cell_type": "markdown",
   "id": "497420b7",
   "metadata": {},
   "source": [
    "# 6.2 Критерии нормальности"
   ]
  },
  {
   "cell_type": "code",
   "execution_count": 1,
   "id": "7eccf80b",
   "metadata": {},
   "outputs": [],
   "source": [
    "import scipy.stats as sps\n",
    "import numpy as np"
   ]
  },
  {
   "cell_type": "markdown",
   "id": "4f1f8bea",
   "metadata": {},
   "source": [
    "Критерий Жарка-Бера"
   ]
  },
  {
   "cell_type": "code",
   "execution_count": 9,
   "id": "87e8ba74",
   "metadata": {},
   "outputs": [],
   "source": [
    "a = [3.4, 7.0, 3.9, 6.1, 0.9, 4.6, 6.4, 3.2, 1.8, 4.8, 3.8, 5.6, 1.3, 3.3, 3.7, 2.9, 5.2, 3.7, 5.0, 3.9]"
   ]
  },
  {
   "cell_type": "code",
   "execution_count": 12,
   "id": "bc660c6e",
   "metadata": {},
   "outputs": [
    {
     "data": {
      "text/plain": [
       "0.21565419512883985"
      ]
     },
     "execution_count": 12,
     "metadata": {},
     "output_type": "execute_result"
    }
   ],
   "source": [
    "n = len(a)\n",
    "x = sum(a)/n\n",
    "std = np.std(a)\n",
    "mu = lambda p: sum([(xi - x)**p for xi in a])/n\n",
    "Sk = mu(3)/(std**3)\n",
    "K = mu(4)/(std**4) - 3\n",
    "JB = n/6*(Sk**2 + K**2/4)\n",
    "# sps.jarque_bera(a)\n",
    "JB"
   ]
  },
  {
   "cell_type": "markdown",
   "id": "9ac13cd0",
   "metadata": {},
   "source": [
    "Критерий Андерсона-Дарлинга"
   ]
  },
  {
   "cell_type": "code",
   "execution_count": 13,
   "id": "b182c3cb",
   "metadata": {},
   "outputs": [
    {
     "data": {
      "text/plain": [
       "AndersonResult(statistic=0.2345974610623358, critical_values=array([0.506, 0.577, 0.692, 0.807, 0.96 ]), significance_level=array([15. , 10. ,  5. ,  2.5,  1. ]))"
      ]
     },
     "execution_count": 13,
     "metadata": {},
     "output_type": "execute_result"
    }
   ],
   "source": [
    "A = sps.anderson(a)\n",
    "A"
   ]
  },
  {
   "cell_type": "markdown",
   "id": "5db1c544",
   "metadata": {},
   "source": [
    "Влияет ли нифедипин на среднее артериальное давление после приема кокаина?\n",
    "\n",
    "Найдите значение статистики критерия"
   ]
  },
  {
   "cell_type": "code",
   "execution_count": 18,
   "id": "4d9996cc",
   "metadata": {},
   "outputs": [
    {
     "data": {
      "text/plain": [
       "KstestResult(statistic=0.6, pvalue=0.05244755244755244)"
      ]
     },
     "execution_count": 18,
     "metadata": {},
     "output_type": "execute_result"
    }
   ],
   "source": [
    "placebo = [156, 171, 133, 102, 129, 150, 120, 110, 112, 130]\n",
    "nif = [73, 81, 103, 88, 131, 106, 107, 111, 122, 108]\n",
    "sps.ks_2samp(placebo, nif)"
   ]
  },
  {
   "cell_type": "code",
   "execution_count": 19,
   "id": "05b38501",
   "metadata": {},
   "outputs": [
    {
     "data": {
      "text/plain": [
       "1.5174269646320033"
      ]
     },
     "execution_count": 19,
     "metadata": {},
     "output_type": "execute_result"
    }
   ],
   "source": [
    "alpha = 0.02\n",
    "sps.kstwobign.ppf(1-alpha, loc=0, scale=1)"
   ]
  },
  {
   "cell_type": "markdown",
   "id": "1b11ed06",
   "metadata": {},
   "source": [
    "Кто выше баскетболисты или волейболисты?"
   ]
  },
  {
   "cell_type": "code",
   "execution_count": 32,
   "id": "0b789d88",
   "metadata": {},
   "outputs": [],
   "source": [
    "b = [200,190,195,190,194,202,202,207,205,220,213,196,203]\n",
    "v = [205,202,218,213,198,198,195,204,197,202,201,205,201,197,198,197,209]"
   ]
  },
  {
   "cell_type": "code",
   "execution_count": 33,
   "id": "89838268",
   "metadata": {},
   "outputs": [],
   "source": [
    "def count(h):\n",
    "    n1, n2, n3 = 0, 0, 0\n",
    "    for i in h:\n",
    "        if i >= 189 and i <= 200:\n",
    "            n1 += 1\n",
    "        elif i > 200 and i <= 210:\n",
    "            n2 += 1\n",
    "        elif i > 210 and i <= 221:\n",
    "            n3 += 1\n",
    "    return n1, n2, n3"
   ]
  },
  {
   "cell_type": "code",
   "execution_count": 142,
   "id": "09203883",
   "metadata": {},
   "outputs": [],
   "source": [
    "n1b, n2b, n3b = count(b)\n",
    "n1v, n2v, n3v = count(v)\n",
    "n2b = n2b + n3b\n",
    "n2v = n2v + n3v\n",
    "n1 = n1b + n1v\n",
    "n2 = n2b + n2v\n",
    "n = sum((n1b, n2b, n1v, n2v))\n",
    "p1, p2 = n1/n, n2/n"
   ]
  },
  {
   "cell_type": "code",
   "execution_count": 140,
   "id": "46e05c6c",
   "metadata": {},
   "outputs": [
    {
     "data": {
      "text/plain": [
       "0.07432280256342005"
      ]
     },
     "execution_count": 140,
     "metadata": {},
     "output_type": "execute_result"
    }
   ],
   "source": [
    "f = lambda ni, pi, n: (ni - pi*n)**2/(pi*n)\n",
    "par = sum((f(n1b, p1, len(b)), f(n1v, p1, len(v)), f(n2b, p2, len(b)), f(n2v, p2, len(v))))\n",
    "par"
   ]
  },
  {
   "cell_type": "markdown",
   "id": "41f1faf2",
   "metadata": {},
   "source": [
    "Чему равна статистика критерия, если использовать поправку Йетса:"
   ]
  },
  {
   "cell_type": "code",
   "execution_count": 144,
   "id": "b8944b37",
   "metadata": {},
   "outputs": [
    {
     "data": {
      "text/plain": [
       "0.009827808603427452"
      ]
     },
     "execution_count": 144,
     "metadata": {},
     "output_type": "execute_result"
    }
   ],
   "source": [
    "y = lambda ni, pi, n: (abs(ni - pi*n) - 0.5)**2/(pi*n)\n",
    "par = sum((y(n1b, p1, len(b)), y(n1v, p1, len(v)), y(n2b, p2, len(b)), y(n2v, p2, len(v))))\n",
    "par"
   ]
  }
 ],
 "metadata": {
  "kernelspec": {
   "display_name": "Python 3 (ipykernel)",
   "language": "python",
   "name": "python3"
  },
  "language_info": {
   "codemirror_mode": {
    "name": "ipython",
    "version": 3
   },
   "file_extension": ".py",
   "mimetype": "text/x-python",
   "name": "python",
   "nbconvert_exporter": "python",
   "pygments_lexer": "ipython3",
   "version": "3.7.9"
  }
 },
 "nbformat": 4,
 "nbformat_minor": 5
}
