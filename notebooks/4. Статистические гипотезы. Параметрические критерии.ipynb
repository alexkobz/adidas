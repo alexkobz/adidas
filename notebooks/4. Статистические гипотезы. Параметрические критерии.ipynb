{
 "cells": [
  {
   "cell_type": "markdown",
   "id": "9d8a1584",
   "metadata": {},
   "source": [
    "# 4.1 Лемма Неймана-Пирсона"
   ]
  },
  {
   "cell_type": "code",
   "execution_count": 1,
   "id": "35e9f9a5",
   "metadata": {},
   "outputs": [],
   "source": [
    "import scipy.stats as sps\n",
    "import numpy as np"
   ]
  },
  {
   "cell_type": "markdown",
   "id": "f8fc3b22",
   "metadata": {},
   "source": [
    "Проверяется гипотеза о равенстве мат. ожидания нормально распределенной генеральной совокупности 0 при альтернативе \"мат.ожидание больше 0\". Дисперсия известна и равна 4. В качестве статистики критерия было выбрано выборочное среднее. Найдите p-значение (p-value), если  значение выборочного среднего, посчитанного по выборке объемом 25, составило 0.85."
   ]
  },
  {
   "cell_type": "code",
   "execution_count": 3,
   "id": "fa2678f1",
   "metadata": {},
   "outputs": [
    {
     "data": {
      "text/plain": [
       "0.016793306448448786"
      ]
     },
     "execution_count": 3,
     "metadata": {},
     "output_type": "execute_result"
    }
   ],
   "source": [
    "1 - sps.norm.cdf(0.85, loc = 0, scale= 2/5)"
   ]
  },
  {
   "cell_type": "markdown",
   "id": "a86e615b",
   "metadata": {},
   "source": [
    "# 4.2 Критерии о параметрах нормального распределения"
   ]
  },
  {
   "cell_type": "markdown",
   "id": "fa1382cd",
   "metadata": {},
   "source": [
    "Вы хотите найти такой вид инвестирования, который бы давал твердый доход, по крайней мере 13.2%. Для этого вам необходимо проверить, является ли выборочное среднее доказательством того, что реальный доход больше проверяемого значения доходности. Вы подумываете инвестировать в облигации A. По данным 40 наблюдений среднемесячная доходность, приведенная к годовому базису, по выбранным облигациям составила 14.4%, а выборочное среднеквадратическое отклонение - 2.915%. Предположим, что доходность подчиняется нормальному закону. Уровень значимости 0.01.\n",
    "\n",
    "Найдите выборочное значение статистики Z и примите статистическое решение"
   ]
  },
  {
   "cell_type": "code",
   "execution_count": 4,
   "id": "d7690005",
   "metadata": {},
   "outputs": [
    {
     "name": "stdout",
     "output_type": "stream",
     "text": [
      "Z: 2.57, V_k: (2.426, +inf)\n"
     ]
    }
   ],
   "source": [
    "n = 40\n",
    "a = 14.4  # Среднее по выборке\n",
    "a_0 = 13.2\n",
    "s = 2.915 * np.sqrt(n / (n - 1))  # делаем выборочное СКО несмещённым\n",
    "alpha = 0.01\n",
    "t1 = sps.t.ppf(1 - alpha, df=n - 1)  # Нужный квантиль распределения Стьюдента\n",
    "\n",
    "Z = (a - a_0) / (s / np.sqrt(n))\n",
    "print(f'Z: {Z:.2f}, V_k: ({t1:.3f}, +inf)')"
   ]
  },
  {
   "cell_type": "markdown",
   "id": "c11c2e80",
   "metadata": {},
   "source": [
    "Пусть ξ∼N(a,σ), a неизвестно, σ=2\n",
    "\n",
    "Проверяется гипотеза H0:a=5 при альтернативе H1: a=5.5.\n",
    "\n",
    "Какого объема следует взять выборку, чтобы вероятность ошибки первого рода не превосходила  0.05, а вероятность ошибки второго рода не превосходила 0.1?  Найдите наименьшее значение"
   ]
  },
  {
   "cell_type": "code",
   "execution_count": 12,
   "id": "6abf3aa9",
   "metadata": {},
   "outputs": [
    {
     "data": {
      "text/plain": [
       "138"
      ]
     },
     "execution_count": 12,
     "metadata": {},
     "output_type": "execute_result"
    }
   ],
   "source": [
    "alpha = 0.05\n",
    "beta = 0.1\n",
    "m0 = 5\n",
    "m1 = 5.5\n",
    "std = 2\n",
    "u_a = sps.norm.ppf(1-alpha)\n",
    "u_b = sps.norm.ppf(beta)\n",
    "n = std**2*(u_a-u_b)**2/(m1-m0)**2\n",
    "import math\n",
    "math.ceil(n)"
   ]
  },
  {
   "cell_type": "markdown",
   "id": "3b3f3e75",
   "metadata": {},
   "source": [
    "Десять разных термометров сопротивления откалибровали по стандартному термометру. Десять разных термометров сопротивления откалибровали по стандартному термометру. Найдите p-значение и примите статистическое решение."
   ]
  },
  {
   "cell_type": "code",
   "execution_count": 13,
   "id": "9b981522",
   "metadata": {},
   "outputs": [
    {
     "data": {
      "text/plain": [
       "0.042923125026275044"
      ]
     },
     "execution_count": 13,
     "metadata": {},
     "output_type": "execute_result"
    }
   ],
   "source": [
    "a = [986, 1005, 991, 994, 983, 1002, 996, 998, 1002, 983]\n",
    "a = np.array(a)\n",
    "\n",
    "n = len(a)\n",
    "alpha = 0.05\n",
    "m = a.mean()\n",
    "d = sum((a - m)**2) / n\n",
    "d = d * n / (n-1)\n",
    "Z = (m - 1000) / (np.sqrt(d) / np.sqrt(n))\n",
    "p = 2 * min(sps.t.cdf(Z, df=n-1), 1 - sps.t.cdf(Z, df=n-1))\n",
    "p"
   ]
  },
  {
   "cell_type": "markdown",
   "id": "0869446e",
   "metadata": {},
   "source": [
    "# 4.3 Критерии о параметрах нормального и биномиального распределений"
   ]
  },
  {
   "cell_type": "markdown",
   "id": "4daa3608",
   "metadata": {},
   "source": [
    "Пусть ξ∼N(a,σ), a и σ неизвестны.\n",
    "\n",
    "Проверяется нулевая гипотеза H0:σ2=21  при альтернативе H 1:σ2<21. \n",
    "\n",
    "Найдите квантиль распределения статистики критерия, участвующий в построении критической области, если уровень значимости равен 0.1, а объем выборки 20."
   ]
  },
  {
   "cell_type": "code",
   "execution_count": 14,
   "id": "da58532b",
   "metadata": {},
   "outputs": [
    {
     "data": {
      "text/plain": [
       "11.650910032126951"
      ]
     },
     "execution_count": 14,
     "metadata": {},
     "output_type": "execute_result"
    }
   ],
   "source": [
    "sps.chi2.ppf(0.1, 19)"
   ]
  },
  {
   "cell_type": "markdown",
   "id": "11b491ef",
   "metadata": {},
   "source": [
    "При отлаженном процессе наполнения тюбиков с зубной пастой в одну упаковку в среднем помещается 100 мл зубной пасты, при этом дисперсия объема зубной пасты в упаковке не должна превышать 9 (мл в квадрате). Отдел контроля качества отобрал 25 упаковок и рассчитал несмещённую оценку дисперсии, она составила 13.5.\n",
    "\n",
    "Есть ли основания считать, что дисперсия объема зубной пасты превышает допустимый предел? Используйте уровень значимости 0.05. Предполагается, что объем зубной пасты в упаковке подчиняется нормальному закону распределения.\n",
    "Найдите p-значение, примите статистическое решение"
   ]
  },
  {
   "cell_type": "code",
   "execution_count": 16,
   "id": "660b7be1",
   "metadata": {},
   "outputs": [
    {
     "name": "stdout",
     "output_type": "stream",
     "text": [
      "0.05488742448818906, H0\n"
     ]
    }
   ],
   "source": [
    "v = 100 # мл\n",
    "sigma2 = 9 # мл в квадрате\n",
    "n = 25 # упаковок\n",
    "s2 = 13.5\n",
    "alpha = 0.05\n",
    "\n",
    "# H0:  sigma2 = 9\n",
    "# H1: sigma2 > 9\n",
    "z = (n-1) * s2 / sigma2\n",
    "p_value = 1 - sps.chi2.cdf(z, n-1)\n",
    "if p_value > alpha:\n",
    "    print('{}, H0'.format(p_value))\n",
    "else:\n",
    "    print('{}, H1'.format(p_value))"
   ]
  },
  {
   "cell_type": "markdown",
   "id": "d84dfce1",
   "metadata": {},
   "source": [
    "Пусть ξ∼N(a,σ), a известно и равно 205, σ неизвестно.\n",
    "\n",
    "Проверяется нулевая гипотеза H0:σ2=21  при альтернативе H1:σ2<21.\n",
    "\n",
    "Найдите квантиль распределения статистики критерия, участвующий в построении критической области, если уровень значимости равен 0.01, а объем выборки 20."
   ]
  },
  {
   "cell_type": "code",
   "execution_count": 17,
   "id": "395983de",
   "metadata": {},
   "outputs": [
    {
     "data": {
      "text/plain": [
       "14.61140763948331"
      ]
     },
     "execution_count": 17,
     "metadata": {},
     "output_type": "execute_result"
    }
   ],
   "source": [
    "sps.chi2.ppf(alpha, n)"
   ]
  }
 ],
 "metadata": {
  "kernelspec": {
   "display_name": "Python 3 (ipykernel)",
   "language": "python",
   "name": "python3"
  },
  "language_info": {
   "codemirror_mode": {
    "name": "ipython",
    "version": 3
   },
   "file_extension": ".py",
   "mimetype": "text/x-python",
   "name": "python",
   "nbconvert_exporter": "python",
   "pygments_lexer": "ipython3",
   "version": "3.7.9"
  }
 },
 "nbformat": 4,
 "nbformat_minor": 5
}
