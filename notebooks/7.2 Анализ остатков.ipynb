{
 "cells": [
  {
   "cell_type": "markdown",
   "id": "b93f281e",
   "metadata": {},
   "source": [
    "# 7.2 Анализ остатков"
   ]
  },
  {
   "cell_type": "code",
   "execution_count": 38,
   "id": "e2b630a9",
   "metadata": {},
   "outputs": [],
   "source": [
    "import scipy.stats as sps\n",
    "import numpy as np\n",
    "import pandas as pd\n",
    "from sklearn.linear_model import LinearRegression\n",
    "import matplotlib.pyplot as plt"
   ]
  },
  {
   "cell_type": "markdown",
   "id": "8db401cc",
   "metadata": {},
   "source": [
    "price = beta0 + beta1 * year + beta2 * mileage + beta3 * auto + eps"
   ]
  },
  {
   "cell_type": "code",
   "execution_count": 4,
   "id": "e9ca0e96",
   "metadata": {},
   "outputs": [
    {
     "data": {
      "text/html": [
       "<div>\n",
       "<style scoped>\n",
       "    .dataframe tbody tr th:only-of-type {\n",
       "        vertical-align: middle;\n",
       "    }\n",
       "\n",
       "    .dataframe tbody tr th {\n",
       "        vertical-align: top;\n",
       "    }\n",
       "\n",
       "    .dataframe thead th {\n",
       "        text-align: right;\n",
       "    }\n",
       "</style>\n",
       "<table border=\"1\" class=\"dataframe\">\n",
       "  <thead>\n",
       "    <tr style=\"text-align: right;\">\n",
       "      <th></th>\n",
       "      <th>price</th>\n",
       "      <th>year</th>\n",
       "      <th>mileage</th>\n",
       "      <th>auto</th>\n",
       "    </tr>\n",
       "  </thead>\n",
       "  <tbody>\n",
       "    <tr>\n",
       "      <th>0</th>\n",
       "      <td>250</td>\n",
       "      <td>2010</td>\n",
       "      <td>67.0</td>\n",
       "      <td>MT</td>\n",
       "    </tr>\n",
       "    <tr>\n",
       "      <th>1</th>\n",
       "      <td>365</td>\n",
       "      <td>2013</td>\n",
       "      <td>59.0</td>\n",
       "      <td>MT</td>\n",
       "    </tr>\n",
       "    <tr>\n",
       "      <th>2</th>\n",
       "      <td>365</td>\n",
       "      <td>2013</td>\n",
       "      <td>59.0</td>\n",
       "      <td>MT</td>\n",
       "    </tr>\n",
       "    <tr>\n",
       "      <th>3</th>\n",
       "      <td>250</td>\n",
       "      <td>2009</td>\n",
       "      <td>95.0</td>\n",
       "      <td>MT</td>\n",
       "    </tr>\n",
       "    <tr>\n",
       "      <th>4</th>\n",
       "      <td>310</td>\n",
       "      <td>2011</td>\n",
       "      <td>76.5</td>\n",
       "      <td>MT</td>\n",
       "    </tr>\n",
       "    <tr>\n",
       "      <th>5</th>\n",
       "      <td>125</td>\n",
       "      <td>2007</td>\n",
       "      <td>203.0</td>\n",
       "      <td>MT</td>\n",
       "    </tr>\n",
       "    <tr>\n",
       "      <th>6</th>\n",
       "      <td>150</td>\n",
       "      <td>2006</td>\n",
       "      <td>146.0</td>\n",
       "      <td>MT</td>\n",
       "    </tr>\n",
       "    <tr>\n",
       "      <th>7</th>\n",
       "      <td>225</td>\n",
       "      <td>2008</td>\n",
       "      <td>83.0</td>\n",
       "      <td>MT</td>\n",
       "    </tr>\n",
       "    <tr>\n",
       "      <th>8</th>\n",
       "      <td>269</td>\n",
       "      <td>2013</td>\n",
       "      <td>71.0</td>\n",
       "      <td>MT</td>\n",
       "    </tr>\n",
       "    <tr>\n",
       "      <th>9</th>\n",
       "      <td>250</td>\n",
       "      <td>2010</td>\n",
       "      <td>175.0</td>\n",
       "      <td>MT</td>\n",
       "    </tr>\n",
       "    <tr>\n",
       "      <th>10</th>\n",
       "      <td>410</td>\n",
       "      <td>2014</td>\n",
       "      <td>21.0</td>\n",
       "      <td>MT</td>\n",
       "    </tr>\n",
       "    <tr>\n",
       "      <th>11</th>\n",
       "      <td>219</td>\n",
       "      <td>2008</td>\n",
       "      <td>140.0</td>\n",
       "      <td>MT</td>\n",
       "    </tr>\n",
       "    <tr>\n",
       "      <th>12</th>\n",
       "      <td>165</td>\n",
       "      <td>2006</td>\n",
       "      <td>146.0</td>\n",
       "      <td>MT</td>\n",
       "    </tr>\n",
       "    <tr>\n",
       "      <th>13</th>\n",
       "      <td>250</td>\n",
       "      <td>2011</td>\n",
       "      <td>93.0</td>\n",
       "      <td>MT</td>\n",
       "    </tr>\n",
       "    <tr>\n",
       "      <th>14</th>\n",
       "      <td>250</td>\n",
       "      <td>2009</td>\n",
       "      <td>75.0</td>\n",
       "      <td>MT</td>\n",
       "    </tr>\n",
       "    <tr>\n",
       "      <th>15</th>\n",
       "      <td>159</td>\n",
       "      <td>2006</td>\n",
       "      <td>187.0</td>\n",
       "      <td>MT</td>\n",
       "    </tr>\n",
       "    <tr>\n",
       "      <th>16</th>\n",
       "      <td>495</td>\n",
       "      <td>2015</td>\n",
       "      <td>52.0</td>\n",
       "      <td>AT</td>\n",
       "    </tr>\n",
       "    <tr>\n",
       "      <th>17</th>\n",
       "      <td>180</td>\n",
       "      <td>2006</td>\n",
       "      <td>155.0</td>\n",
       "      <td>MT</td>\n",
       "    </tr>\n",
       "    <tr>\n",
       "      <th>18</th>\n",
       "      <td>145</td>\n",
       "      <td>2013</td>\n",
       "      <td>35.0</td>\n",
       "      <td>MT</td>\n",
       "    </tr>\n",
       "    <tr>\n",
       "      <th>19</th>\n",
       "      <td>217</td>\n",
       "      <td>2008</td>\n",
       "      <td>78.0</td>\n",
       "      <td>MT</td>\n",
       "    </tr>\n",
       "    <tr>\n",
       "      <th>20</th>\n",
       "      <td>275</td>\n",
       "      <td>2010</td>\n",
       "      <td>98.0</td>\n",
       "      <td>MT</td>\n",
       "    </tr>\n",
       "    <tr>\n",
       "      <th>21</th>\n",
       "      <td>170</td>\n",
       "      <td>2006</td>\n",
       "      <td>100.0</td>\n",
       "      <td>MT</td>\n",
       "    </tr>\n",
       "    <tr>\n",
       "      <th>22</th>\n",
       "      <td>169</td>\n",
       "      <td>2009</td>\n",
       "      <td>87.0</td>\n",
       "      <td>MT</td>\n",
       "    </tr>\n",
       "    <tr>\n",
       "      <th>23</th>\n",
       "      <td>335</td>\n",
       "      <td>2013</td>\n",
       "      <td>63.0</td>\n",
       "      <td>MT</td>\n",
       "    </tr>\n",
       "    <tr>\n",
       "      <th>24</th>\n",
       "      <td>235</td>\n",
       "      <td>2011</td>\n",
       "      <td>64.0</td>\n",
       "      <td>MT</td>\n",
       "    </tr>\n",
       "    <tr>\n",
       "      <th>25</th>\n",
       "      <td>150</td>\n",
       "      <td>2006</td>\n",
       "      <td>150.0</td>\n",
       "      <td>MT</td>\n",
       "    </tr>\n",
       "    <tr>\n",
       "      <th>26</th>\n",
       "      <td>240</td>\n",
       "      <td>2010</td>\n",
       "      <td>83.0</td>\n",
       "      <td>MT</td>\n",
       "    </tr>\n",
       "    <tr>\n",
       "      <th>27</th>\n",
       "      <td>145</td>\n",
       "      <td>2007</td>\n",
       "      <td>138.0</td>\n",
       "      <td>MT</td>\n",
       "    </tr>\n",
       "    <tr>\n",
       "      <th>28</th>\n",
       "      <td>140</td>\n",
       "      <td>2011</td>\n",
       "      <td>65.0</td>\n",
       "      <td>MT</td>\n",
       "    </tr>\n",
       "    <tr>\n",
       "      <th>29</th>\n",
       "      <td>215</td>\n",
       "      <td>2008</td>\n",
       "      <td>74.0</td>\n",
       "      <td>MT</td>\n",
       "    </tr>\n",
       "    <tr>\n",
       "      <th>30</th>\n",
       "      <td>190</td>\n",
       "      <td>2008</td>\n",
       "      <td>65.0</td>\n",
       "      <td>MT</td>\n",
       "    </tr>\n",
       "    <tr>\n",
       "      <th>31</th>\n",
       "      <td>277</td>\n",
       "      <td>2011</td>\n",
       "      <td>51.0</td>\n",
       "      <td>MT</td>\n",
       "    </tr>\n",
       "    <tr>\n",
       "      <th>32</th>\n",
       "      <td>175</td>\n",
       "      <td>2006</td>\n",
       "      <td>110.0</td>\n",
       "      <td>MT</td>\n",
       "    </tr>\n",
       "    <tr>\n",
       "      <th>33</th>\n",
       "      <td>249</td>\n",
       "      <td>2012</td>\n",
       "      <td>113.0</td>\n",
       "      <td>MT</td>\n",
       "    </tr>\n",
       "    <tr>\n",
       "      <th>34</th>\n",
       "      <td>419</td>\n",
       "      <td>2014</td>\n",
       "      <td>16.0</td>\n",
       "      <td>MT</td>\n",
       "    </tr>\n",
       "    <tr>\n",
       "      <th>35</th>\n",
       "      <td>289</td>\n",
       "      <td>2014</td>\n",
       "      <td>37.0</td>\n",
       "      <td>MT</td>\n",
       "    </tr>\n",
       "    <tr>\n",
       "      <th>36</th>\n",
       "      <td>215</td>\n",
       "      <td>2008</td>\n",
       "      <td>74.0</td>\n",
       "      <td>MT</td>\n",
       "    </tr>\n",
       "    <tr>\n",
       "      <th>37</th>\n",
       "      <td>190</td>\n",
       "      <td>2008</td>\n",
       "      <td>65.0</td>\n",
       "      <td>MT</td>\n",
       "    </tr>\n",
       "    <tr>\n",
       "      <th>38</th>\n",
       "      <td>277</td>\n",
       "      <td>2011</td>\n",
       "      <td>51.0</td>\n",
       "      <td>MT</td>\n",
       "    </tr>\n",
       "    <tr>\n",
       "      <th>39</th>\n",
       "      <td>175</td>\n",
       "      <td>2006</td>\n",
       "      <td>110.0</td>\n",
       "      <td>MT</td>\n",
       "    </tr>\n",
       "    <tr>\n",
       "      <th>40</th>\n",
       "      <td>399</td>\n",
       "      <td>2011</td>\n",
       "      <td>58.0</td>\n",
       "      <td>AT</td>\n",
       "    </tr>\n",
       "    <tr>\n",
       "      <th>41</th>\n",
       "      <td>350</td>\n",
       "      <td>2011</td>\n",
       "      <td>70.0</td>\n",
       "      <td>AT</td>\n",
       "    </tr>\n",
       "    <tr>\n",
       "      <th>42</th>\n",
       "      <td>365</td>\n",
       "      <td>2012</td>\n",
       "      <td>14.0</td>\n",
       "      <td>AT</td>\n",
       "    </tr>\n",
       "    <tr>\n",
       "      <th>43</th>\n",
       "      <td>379</td>\n",
       "      <td>2012</td>\n",
       "      <td>55.0</td>\n",
       "      <td>AT</td>\n",
       "    </tr>\n",
       "  </tbody>\n",
       "</table>\n",
       "</div>"
      ],
      "text/plain": [
       "    price  year  mileage auto\n",
       "0     250  2010     67.0   MT\n",
       "1     365  2013     59.0   MT\n",
       "2     365  2013     59.0   MT\n",
       "3     250  2009     95.0   MT\n",
       "4     310  2011     76.5   MT\n",
       "5     125  2007    203.0   MT\n",
       "6     150  2006    146.0   MT\n",
       "7     225  2008     83.0   MT\n",
       "8     269  2013     71.0   MT\n",
       "9     250  2010    175.0   MT\n",
       "10    410  2014     21.0   MT\n",
       "11    219  2008    140.0   MT\n",
       "12    165  2006    146.0   MT\n",
       "13    250  2011     93.0   MT\n",
       "14    250  2009     75.0   MT\n",
       "15    159  2006    187.0   MT\n",
       "16    495  2015     52.0   AT\n",
       "17    180  2006    155.0   MT\n",
       "18    145  2013     35.0   MT\n",
       "19    217  2008     78.0   MT\n",
       "20    275  2010     98.0   MT\n",
       "21    170  2006    100.0   MT\n",
       "22    169  2009     87.0   MT\n",
       "23    335  2013     63.0   MT\n",
       "24    235  2011     64.0   MT\n",
       "25    150  2006    150.0   MT\n",
       "26    240  2010     83.0   MT\n",
       "27    145  2007    138.0   MT\n",
       "28    140  2011     65.0   MT\n",
       "29    215  2008     74.0   MT\n",
       "30    190  2008     65.0   MT\n",
       "31    277  2011     51.0   MT\n",
       "32    175  2006    110.0   MT\n",
       "33    249  2012    113.0   MT\n",
       "34    419  2014     16.0   MT\n",
       "35    289  2014     37.0   MT\n",
       "36    215  2008     74.0   MT\n",
       "37    190  2008     65.0   MT\n",
       "38    277  2011     51.0   MT\n",
       "39    175  2006    110.0   MT\n",
       "40    399  2011     58.0   AT\n",
       "41    350  2011     70.0   AT\n",
       "42    365  2012     14.0   AT\n",
       "43    379  2012     55.0   AT"
      ]
     },
     "execution_count": 4,
     "metadata": {},
     "output_type": "execute_result"
    }
   ],
   "source": [
    "data = pd.read_csv('https://stepik.org/media/attachments/lesson/26278/car_regr.txt', sep='\\t')\n",
    "data"
   ]
  },
  {
   "cell_type": "code",
   "execution_count": 95,
   "id": "69a11b88",
   "metadata": {},
   "outputs": [],
   "source": [
    "price = np.array(data['price']).reshape(-1, 1)\n",
    "year = np.array(data['year'])\n",
    "mileage = np.array(data['mileage'])\n",
    "z = np.array(np.where(data['auto'] == \"AT\", 0, 1))\n",
    "n = len(data)\n",
    "k = 3"
   ]
  },
  {
   "cell_type": "code",
   "execution_count": 35,
   "id": "beef5d3d",
   "metadata": {},
   "outputs": [
    {
     "data": {
      "text/plain": [
       "LinearRegression()"
      ]
     },
     "execution_count": 35,
     "metadata": {},
     "output_type": "execute_result"
    }
   ],
   "source": [
    "linreg = LinearRegression()\n",
    "y = price\n",
    "X = pd.DataFrame({'year': year, 'mileage': mileage, 'z': z})\n",
    "linreg.fit(y=price, X=X)"
   ]
  },
  {
   "cell_type": "markdown",
   "id": "df32da57",
   "metadata": {},
   "source": [
    "beta"
   ]
  },
  {
   "cell_type": "code",
   "execution_count": 89,
   "id": "d4c4ba8b",
   "metadata": {},
   "outputs": [],
   "source": [
    "beta0 = linreg.intercept_\n",
    "beta1 = linreg.coef_[0][0]\n",
    "beta2 = linreg.coef_[0][1]\n",
    "beta3 = linreg.coef_[0][2]"
   ]
  },
  {
   "cell_type": "markdown",
   "id": "3301bf85",
   "metadata": {},
   "source": [
    "Найдите диагональный элемент матрицы A^T*A, участвующий в построении доверительного интервала для параметра beta1"
   ]
  },
  {
   "cell_type": "code",
   "execution_count": 64,
   "id": "16775e22",
   "metadata": {},
   "outputs": [
    {
     "data": {
      "text/plain": [
       "matrix([[1.000e+00, 2.010e+03, 6.700e+01, 1.000e+00],\n",
       "        [1.000e+00, 2.013e+03, 5.900e+01, 1.000e+00],\n",
       "        [1.000e+00, 2.013e+03, 5.900e+01, 1.000e+00],\n",
       "        [1.000e+00, 2.009e+03, 9.500e+01, 1.000e+00],\n",
       "        [1.000e+00, 2.011e+03, 7.650e+01, 1.000e+00],\n",
       "        [1.000e+00, 2.007e+03, 2.030e+02, 1.000e+00],\n",
       "        [1.000e+00, 2.006e+03, 1.460e+02, 1.000e+00],\n",
       "        [1.000e+00, 2.008e+03, 8.300e+01, 1.000e+00],\n",
       "        [1.000e+00, 2.013e+03, 7.100e+01, 1.000e+00],\n",
       "        [1.000e+00, 2.010e+03, 1.750e+02, 1.000e+00],\n",
       "        [1.000e+00, 2.014e+03, 2.100e+01, 1.000e+00],\n",
       "        [1.000e+00, 2.008e+03, 1.400e+02, 1.000e+00],\n",
       "        [1.000e+00, 2.006e+03, 1.460e+02, 1.000e+00],\n",
       "        [1.000e+00, 2.011e+03, 9.300e+01, 1.000e+00],\n",
       "        [1.000e+00, 2.009e+03, 7.500e+01, 1.000e+00],\n",
       "        [1.000e+00, 2.006e+03, 1.870e+02, 1.000e+00],\n",
       "        [1.000e+00, 2.015e+03, 5.200e+01, 0.000e+00],\n",
       "        [1.000e+00, 2.006e+03, 1.550e+02, 1.000e+00],\n",
       "        [1.000e+00, 2.013e+03, 3.500e+01, 1.000e+00],\n",
       "        [1.000e+00, 2.008e+03, 7.800e+01, 1.000e+00],\n",
       "        [1.000e+00, 2.010e+03, 9.800e+01, 1.000e+00],\n",
       "        [1.000e+00, 2.006e+03, 1.000e+02, 1.000e+00],\n",
       "        [1.000e+00, 2.009e+03, 8.700e+01, 1.000e+00],\n",
       "        [1.000e+00, 2.013e+03, 6.300e+01, 1.000e+00],\n",
       "        [1.000e+00, 2.011e+03, 6.400e+01, 1.000e+00],\n",
       "        [1.000e+00, 2.006e+03, 1.500e+02, 1.000e+00],\n",
       "        [1.000e+00, 2.010e+03, 8.300e+01, 1.000e+00],\n",
       "        [1.000e+00, 2.007e+03, 1.380e+02, 1.000e+00],\n",
       "        [1.000e+00, 2.011e+03, 6.500e+01, 1.000e+00],\n",
       "        [1.000e+00, 2.008e+03, 7.400e+01, 1.000e+00],\n",
       "        [1.000e+00, 2.008e+03, 6.500e+01, 1.000e+00],\n",
       "        [1.000e+00, 2.011e+03, 5.100e+01, 1.000e+00],\n",
       "        [1.000e+00, 2.006e+03, 1.100e+02, 1.000e+00],\n",
       "        [1.000e+00, 2.012e+03, 1.130e+02, 1.000e+00],\n",
       "        [1.000e+00, 2.014e+03, 1.600e+01, 1.000e+00],\n",
       "        [1.000e+00, 2.014e+03, 3.700e+01, 1.000e+00],\n",
       "        [1.000e+00, 2.008e+03, 7.400e+01, 1.000e+00],\n",
       "        [1.000e+00, 2.008e+03, 6.500e+01, 1.000e+00],\n",
       "        [1.000e+00, 2.011e+03, 5.100e+01, 1.000e+00],\n",
       "        [1.000e+00, 2.006e+03, 1.100e+02, 1.000e+00],\n",
       "        [1.000e+00, 2.011e+03, 5.800e+01, 0.000e+00],\n",
       "        [1.000e+00, 2.011e+03, 7.000e+01, 0.000e+00],\n",
       "        [1.000e+00, 2.012e+03, 1.400e+01, 0.000e+00],\n",
       "        [1.000e+00, 2.012e+03, 5.500e+01, 0.000e+00]])"
      ]
     },
     "execution_count": 64,
     "metadata": {},
     "output_type": "execute_result"
    }
   ],
   "source": [
    "A = np.matrix(pd.DataFrame({'1': np.ones(n),'year': year, 'mileage': mileage, 'z': z}))\n",
    "A"
   ]
  },
  {
   "cell_type": "code",
   "execution_count": 65,
   "id": "65c9ffb7",
   "metadata": {},
   "outputs": [
    {
     "data": {
      "text/plain": [
       "matrix([[1.000e+00, 1.000e+00, 1.000e+00, 1.000e+00, 1.000e+00,\n",
       "         1.000e+00, 1.000e+00, 1.000e+00, 1.000e+00, 1.000e+00,\n",
       "         1.000e+00, 1.000e+00, 1.000e+00, 1.000e+00, 1.000e+00,\n",
       "         1.000e+00, 1.000e+00, 1.000e+00, 1.000e+00, 1.000e+00,\n",
       "         1.000e+00, 1.000e+00, 1.000e+00, 1.000e+00, 1.000e+00,\n",
       "         1.000e+00, 1.000e+00, 1.000e+00, 1.000e+00, 1.000e+00,\n",
       "         1.000e+00, 1.000e+00, 1.000e+00, 1.000e+00, 1.000e+00,\n",
       "         1.000e+00, 1.000e+00, 1.000e+00, 1.000e+00, 1.000e+00,\n",
       "         1.000e+00, 1.000e+00, 1.000e+00, 1.000e+00],\n",
       "        [2.010e+03, 2.013e+03, 2.013e+03, 2.009e+03, 2.011e+03,\n",
       "         2.007e+03, 2.006e+03, 2.008e+03, 2.013e+03, 2.010e+03,\n",
       "         2.014e+03, 2.008e+03, 2.006e+03, 2.011e+03, 2.009e+03,\n",
       "         2.006e+03, 2.015e+03, 2.006e+03, 2.013e+03, 2.008e+03,\n",
       "         2.010e+03, 2.006e+03, 2.009e+03, 2.013e+03, 2.011e+03,\n",
       "         2.006e+03, 2.010e+03, 2.007e+03, 2.011e+03, 2.008e+03,\n",
       "         2.008e+03, 2.011e+03, 2.006e+03, 2.012e+03, 2.014e+03,\n",
       "         2.014e+03, 2.008e+03, 2.008e+03, 2.011e+03, 2.006e+03,\n",
       "         2.011e+03, 2.011e+03, 2.012e+03, 2.012e+03],\n",
       "        [6.700e+01, 5.900e+01, 5.900e+01, 9.500e+01, 7.650e+01,\n",
       "         2.030e+02, 1.460e+02, 8.300e+01, 7.100e+01, 1.750e+02,\n",
       "         2.100e+01, 1.400e+02, 1.460e+02, 9.300e+01, 7.500e+01,\n",
       "         1.870e+02, 5.200e+01, 1.550e+02, 3.500e+01, 7.800e+01,\n",
       "         9.800e+01, 1.000e+02, 8.700e+01, 6.300e+01, 6.400e+01,\n",
       "         1.500e+02, 8.300e+01, 1.380e+02, 6.500e+01, 7.400e+01,\n",
       "         6.500e+01, 5.100e+01, 1.100e+02, 1.130e+02, 1.600e+01,\n",
       "         3.700e+01, 7.400e+01, 6.500e+01, 5.100e+01, 1.100e+02,\n",
       "         5.800e+01, 7.000e+01, 1.400e+01, 5.500e+01],\n",
       "        [1.000e+00, 1.000e+00, 1.000e+00, 1.000e+00, 1.000e+00,\n",
       "         1.000e+00, 1.000e+00, 1.000e+00, 1.000e+00, 1.000e+00,\n",
       "         1.000e+00, 1.000e+00, 1.000e+00, 1.000e+00, 1.000e+00,\n",
       "         1.000e+00, 0.000e+00, 1.000e+00, 1.000e+00, 1.000e+00,\n",
       "         1.000e+00, 1.000e+00, 1.000e+00, 1.000e+00, 1.000e+00,\n",
       "         1.000e+00, 1.000e+00, 1.000e+00, 1.000e+00, 1.000e+00,\n",
       "         1.000e+00, 1.000e+00, 1.000e+00, 1.000e+00, 1.000e+00,\n",
       "         1.000e+00, 1.000e+00, 1.000e+00, 1.000e+00, 1.000e+00,\n",
       "         0.000e+00, 0.000e+00, 0.000e+00, 0.000e+00]])"
      ]
     },
     "execution_count": 65,
     "metadata": {},
     "output_type": "execute_result"
    }
   ],
   "source": [
    "AT = A.transpose()\n",
    "AT"
   ]
  },
  {
   "cell_type": "code",
   "execution_count": 72,
   "id": "6eb060b0",
   "metadata": {},
   "outputs": [
    {
     "data": {
      "text/plain": [
       "0.006929531942185722"
      ]
     },
     "execution_count": 72,
     "metadata": {},
     "output_type": "execute_result"
    }
   ],
   "source": [
    "np.linalg.pinv(np.dot(AT, A))[1,1]"
   ]
  },
  {
   "cell_type": "markdown",
   "id": "936bea5c",
   "metadata": {},
   "source": [
    "Найдите точность 95% доверительного интервала для beta2"
   ]
  },
  {
   "cell_type": "code",
   "execution_count": 115,
   "id": "f4fda8f8",
   "metadata": {},
   "outputs": [
    {
     "data": {
      "text/plain": [
       "46.794094275254565"
      ]
     },
     "execution_count": 115,
     "metadata": {},
     "output_type": "execute_result"
    }
   ],
   "source": [
    "rss = sum(map(lambda x: (x[0] - (beta0 + beta1*x[1] + beta2*x[2] + beta3*x[3]))**2, zip(price,  X['year'], X['mileage'], X['z'])))\n",
    "S2 = rss[0]/(n - k - 1)\n",
    "S = np.sqrt(S2)\n",
    "S"
   ]
  },
  {
   "cell_type": "code",
   "execution_count": 116,
   "id": "50027ba5",
   "metadata": {},
   "outputs": [
    {
     "data": {
      "text/plain": [
       "0.47252787998274803"
      ]
     },
     "execution_count": 116,
     "metadata": {},
     "output_type": "execute_result"
    }
   ],
   "source": [
    "alpha = 0.05\n",
    "sps.t.ppf(1-alpha/2, n-k-1)*S*np.sqrt(np.linalg.pinv(np.dot(AT, A))[2,2])"
   ]
  },
  {
   "cell_type": "markdown",
   "id": "e2978da7",
   "metadata": {},
   "source": [
    "Найдите коэффициент детерминации и проверьте значимость модели. "
   ]
  },
  {
   "cell_type": "code",
   "execution_count": 125,
   "id": "ed688767",
   "metadata": {},
   "outputs": [
    {
     "data": {
      "text/plain": [
       "0.7456943477859312"
      ]
     },
     "execution_count": 125,
     "metadata": {},
     "output_type": "execute_result"
    }
   ],
   "source": [
    "x = np.average(price)\n",
    "R2 = (1 - rss/sum(map(lambda pr: (pr - x)**2, price))[0])[0]\n",
    "R2"
   ]
  },
  {
   "cell_type": "markdown",
   "id": "ebeb1f5f",
   "metadata": {},
   "source": [
    "Найдите значение стандартизованного остатка, соответствующего  2му наблюдению"
   ]
  },
  {
   "cell_type": "code",
   "execution_count": 172,
   "id": "2a127883",
   "metadata": {},
   "outputs": [
    {
     "data": {
      "text/plain": [
       "matrix([[ 0.03540389,  0.02829404,  0.02829404, ..., -0.00513548,\n",
       "          0.01752804, -0.00171644],\n",
       "        [ 0.02829404,  0.07123567,  0.07123567, ..., -0.01376964,\n",
       "         -0.01014444, -0.00192752],\n",
       "        [ 0.02829404,  0.07123567,  0.07123567, ..., -0.01376964,\n",
       "         -0.01014444, -0.00192752],\n",
       "        ...,\n",
       "        [-0.00513548, -0.01376964, -0.01376964, ...,  0.20611358,\n",
       "          0.19489069,  0.20130578],\n",
       "        [ 0.01752804, -0.01014444, -0.01014444, ...,  0.19489069,\n",
       "          0.23642198,  0.19740373],\n",
       "        [-0.00171644, -0.00192752, -0.00192752, ...,  0.20130578,\n",
       "          0.19740373,  0.20034935]])"
      ]
     },
     "execution_count": 172,
     "metadata": {},
     "output_type": "execute_result"
    }
   ],
   "source": [
    "e2 = price[1] - (beta0 + beta1*year[1] + beta2*mileage[1] + beta3*z[1])\n",
    "h22 = np.dot(np.dot(A,np.linalg.pinv(np.dot(AT,A))),AT)\n",
    "# 0.07123567"
   ]
  },
  {
   "cell_type": "code",
   "execution_count": 176,
   "id": "0c8a6a52",
   "metadata": {},
   "outputs": [
    {
     "data": {
      "text/plain": [
       "array([1.2373635])"
      ]
     },
     "execution_count": 176,
     "metadata": {},
     "output_type": "execute_result"
    }
   ],
   "source": [
    "d2 = e2/(S*np.sqrt(1-0.07123567))\n",
    "d2"
   ]
  },
  {
   "cell_type": "markdown",
   "id": "f06c060f",
   "metadata": {},
   "source": [
    "Какие из основных предположений  об ошибках наблюдений нарушены?\n",
    "Воспользуйтесь графическим анализом, чтобы ответить на поставленный вопрос"
   ]
  },
  {
   "cell_type": "code",
   "execution_count": 195,
   "id": "929173c4",
   "metadata": {},
   "outputs": [
    {
     "data": {
      "image/png": "[encoded data removed]",
      "text/plain": [
       "<Figure size 640x480 with 1 Axes>"
      ]
     },
     "metadata": {},
     "output_type": "display_data"
    }
   ],
   "source": [
    "from sklearn.linear_model import LinearRegression\n",
    "X = np.arange(1.0, 10.1, 0.5).reshape(-1, 1)\n",
    "Y = np.array([4.7, 8.9, 6.2, 7.8, 8.1, 11.7, 7.2, 15.8, 1.1, 6.8, 9.1, 4.6, 21.5, 7.6, 6.2, 13.6, 30.1, 25.5, -0.1])\n",
    "linreg1 = LinearRegression()\n",
    "linreg1.fit(y=Y, X=X)\n",
    "y_pred = linreg1.predict(X)\n",
    "plt.scatter(y=Y, x=X)\n",
    "plt.plot(X, y_pred, 'r')\n",
    "plt.show()"
   ]
  }
 ],
 "metadata": {
  "kernelspec": {
   "display_name": "Python 3 (ipykernel)",
   "language": "python",
   "name": "python3"
  },
  "language_info": {
   "codemirror_mode": {
    "name": "ipython",
    "version": 3
   },
   "file_extension": ".py",
   "mimetype": "text/x-python",
   "name": "python",
   "nbconvert_exporter": "python",
   "pygments_lexer": "ipython3",
   "version": "3.7.9"
  }
 },
 "nbformat": 4,
 "nbformat_minor": 5
}
