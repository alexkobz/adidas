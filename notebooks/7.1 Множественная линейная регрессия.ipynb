{
 "cells": [
  {
   "cell_type": "markdown",
   "id": "d52868d6",
   "metadata": {},
   "source": [
    "# 7.1 Множественная линейная регрессия"
   ]
  },
  {
   "cell_type": "code",
   "execution_count": 232,
   "id": "b35d571a",
   "metadata": {},
   "outputs": [],
   "source": [
    "import scipy.stats as sps\n",
    "import numpy as np"
   ]
  },
  {
   "cell_type": "code",
   "execution_count": 233,
   "id": "72ff3498",
   "metadata": {},
   "outputs": [],
   "source": [
    "import pandas as pd\n",
    "import sklearn as sk\n",
    "from sklearn.linear_model import LinearRegression\n",
    "import matplotlib.pyplot as plt"
   ]
  },
  {
   "cell_type": "markdown",
   "id": "f78e8965",
   "metadata": {},
   "source": [
    "price = beta0 + beta1 * year + eps"
   ]
  },
  {
   "cell_type": "code",
   "execution_count": 235,
   "id": "a2f273b5",
   "metadata": {},
   "outputs": [
    {
     "data": {
      "text/html": [
       "<div>\n",
       "<style scoped>\n",
       "    .dataframe tbody tr th:only-of-type {\n",
       "        vertical-align: middle;\n",
       "    }\n",
       "\n",
       "    .dataframe tbody tr th {\n",
       "        vertical-align: top;\n",
       "    }\n",
       "\n",
       "    .dataframe thead th {\n",
       "        text-align: right;\n",
       "    }\n",
       "</style>\n",
       "<table border=\"1\" class=\"dataframe\">\n",
       "  <thead>\n",
       "    <tr style=\"text-align: right;\">\n",
       "      <th></th>\n",
       "      <th>price</th>\n",
       "      <th>year</th>\n",
       "      <th>mileage</th>\n",
       "      <th>auto</th>\n",
       "    </tr>\n",
       "  </thead>\n",
       "  <tbody>\n",
       "    <tr>\n",
       "      <th>0</th>\n",
       "      <td>250</td>\n",
       "      <td>2010</td>\n",
       "      <td>67.0</td>\n",
       "      <td>MT</td>\n",
       "    </tr>\n",
       "    <tr>\n",
       "      <th>1</th>\n",
       "      <td>365</td>\n",
       "      <td>2013</td>\n",
       "      <td>59.0</td>\n",
       "      <td>MT</td>\n",
       "    </tr>\n",
       "    <tr>\n",
       "      <th>2</th>\n",
       "      <td>365</td>\n",
       "      <td>2013</td>\n",
       "      <td>59.0</td>\n",
       "      <td>MT</td>\n",
       "    </tr>\n",
       "    <tr>\n",
       "      <th>3</th>\n",
       "      <td>250</td>\n",
       "      <td>2009</td>\n",
       "      <td>95.0</td>\n",
       "      <td>MT</td>\n",
       "    </tr>\n",
       "    <tr>\n",
       "      <th>4</th>\n",
       "      <td>310</td>\n",
       "      <td>2011</td>\n",
       "      <td>76.5</td>\n",
       "      <td>MT</td>\n",
       "    </tr>\n",
       "    <tr>\n",
       "      <th>5</th>\n",
       "      <td>125</td>\n",
       "      <td>2007</td>\n",
       "      <td>203.0</td>\n",
       "      <td>MT</td>\n",
       "    </tr>\n",
       "    <tr>\n",
       "      <th>6</th>\n",
       "      <td>150</td>\n",
       "      <td>2006</td>\n",
       "      <td>146.0</td>\n",
       "      <td>MT</td>\n",
       "    </tr>\n",
       "    <tr>\n",
       "      <th>7</th>\n",
       "      <td>225</td>\n",
       "      <td>2008</td>\n",
       "      <td>83.0</td>\n",
       "      <td>MT</td>\n",
       "    </tr>\n",
       "    <tr>\n",
       "      <th>8</th>\n",
       "      <td>269</td>\n",
       "      <td>2013</td>\n",
       "      <td>71.0</td>\n",
       "      <td>MT</td>\n",
       "    </tr>\n",
       "    <tr>\n",
       "      <th>9</th>\n",
       "      <td>250</td>\n",
       "      <td>2010</td>\n",
       "      <td>175.0</td>\n",
       "      <td>MT</td>\n",
       "    </tr>\n",
       "    <tr>\n",
       "      <th>10</th>\n",
       "      <td>410</td>\n",
       "      <td>2014</td>\n",
       "      <td>21.0</td>\n",
       "      <td>MT</td>\n",
       "    </tr>\n",
       "    <tr>\n",
       "      <th>11</th>\n",
       "      <td>219</td>\n",
       "      <td>2008</td>\n",
       "      <td>140.0</td>\n",
       "      <td>MT</td>\n",
       "    </tr>\n",
       "    <tr>\n",
       "      <th>12</th>\n",
       "      <td>165</td>\n",
       "      <td>2006</td>\n",
       "      <td>146.0</td>\n",
       "      <td>MT</td>\n",
       "    </tr>\n",
       "    <tr>\n",
       "      <th>13</th>\n",
       "      <td>250</td>\n",
       "      <td>2011</td>\n",
       "      <td>93.0</td>\n",
       "      <td>MT</td>\n",
       "    </tr>\n",
       "    <tr>\n",
       "      <th>14</th>\n",
       "      <td>250</td>\n",
       "      <td>2009</td>\n",
       "      <td>75.0</td>\n",
       "      <td>MT</td>\n",
       "    </tr>\n",
       "    <tr>\n",
       "      <th>15</th>\n",
       "      <td>159</td>\n",
       "      <td>2006</td>\n",
       "      <td>187.0</td>\n",
       "      <td>MT</td>\n",
       "    </tr>\n",
       "    <tr>\n",
       "      <th>16</th>\n",
       "      <td>495</td>\n",
       "      <td>2015</td>\n",
       "      <td>52.0</td>\n",
       "      <td>AT</td>\n",
       "    </tr>\n",
       "    <tr>\n",
       "      <th>17</th>\n",
       "      <td>180</td>\n",
       "      <td>2006</td>\n",
       "      <td>155.0</td>\n",
       "      <td>MT</td>\n",
       "    </tr>\n",
       "    <tr>\n",
       "      <th>18</th>\n",
       "      <td>145</td>\n",
       "      <td>2013</td>\n",
       "      <td>35.0</td>\n",
       "      <td>MT</td>\n",
       "    </tr>\n",
       "    <tr>\n",
       "      <th>19</th>\n",
       "      <td>217</td>\n",
       "      <td>2008</td>\n",
       "      <td>78.0</td>\n",
       "      <td>MT</td>\n",
       "    </tr>\n",
       "    <tr>\n",
       "      <th>20</th>\n",
       "      <td>275</td>\n",
       "      <td>2010</td>\n",
       "      <td>98.0</td>\n",
       "      <td>MT</td>\n",
       "    </tr>\n",
       "    <tr>\n",
       "      <th>21</th>\n",
       "      <td>170</td>\n",
       "      <td>2006</td>\n",
       "      <td>100.0</td>\n",
       "      <td>MT</td>\n",
       "    </tr>\n",
       "    <tr>\n",
       "      <th>22</th>\n",
       "      <td>169</td>\n",
       "      <td>2009</td>\n",
       "      <td>87.0</td>\n",
       "      <td>MT</td>\n",
       "    </tr>\n",
       "    <tr>\n",
       "      <th>23</th>\n",
       "      <td>335</td>\n",
       "      <td>2013</td>\n",
       "      <td>63.0</td>\n",
       "      <td>MT</td>\n",
       "    </tr>\n",
       "    <tr>\n",
       "      <th>24</th>\n",
       "      <td>235</td>\n",
       "      <td>2011</td>\n",
       "      <td>64.0</td>\n",
       "      <td>MT</td>\n",
       "    </tr>\n",
       "    <tr>\n",
       "      <th>25</th>\n",
       "      <td>150</td>\n",
       "      <td>2006</td>\n",
       "      <td>150.0</td>\n",
       "      <td>MT</td>\n",
       "    </tr>\n",
       "    <tr>\n",
       "      <th>26</th>\n",
       "      <td>240</td>\n",
       "      <td>2010</td>\n",
       "      <td>83.0</td>\n",
       "      <td>MT</td>\n",
       "    </tr>\n",
       "    <tr>\n",
       "      <th>27</th>\n",
       "      <td>145</td>\n",
       "      <td>2007</td>\n",
       "      <td>138.0</td>\n",
       "      <td>MT</td>\n",
       "    </tr>\n",
       "    <tr>\n",
       "      <th>28</th>\n",
       "      <td>140</td>\n",
       "      <td>2011</td>\n",
       "      <td>65.0</td>\n",
       "      <td>MT</td>\n",
       "    </tr>\n",
       "    <tr>\n",
       "      <th>29</th>\n",
       "      <td>215</td>\n",
       "      <td>2008</td>\n",
       "      <td>74.0</td>\n",
       "      <td>MT</td>\n",
       "    </tr>\n",
       "    <tr>\n",
       "      <th>30</th>\n",
       "      <td>190</td>\n",
       "      <td>2008</td>\n",
       "      <td>65.0</td>\n",
       "      <td>MT</td>\n",
       "    </tr>\n",
       "    <tr>\n",
       "      <th>31</th>\n",
       "      <td>277</td>\n",
       "      <td>2011</td>\n",
       "      <td>51.0</td>\n",
       "      <td>MT</td>\n",
       "    </tr>\n",
       "    <tr>\n",
       "      <th>32</th>\n",
       "      <td>175</td>\n",
       "      <td>2006</td>\n",
       "      <td>110.0</td>\n",
       "      <td>MT</td>\n",
       "    </tr>\n",
       "    <tr>\n",
       "      <th>33</th>\n",
       "      <td>249</td>\n",
       "      <td>2012</td>\n",
       "      <td>113.0</td>\n",
       "      <td>MT</td>\n",
       "    </tr>\n",
       "    <tr>\n",
       "      <th>34</th>\n",
       "      <td>419</td>\n",
       "      <td>2014</td>\n",
       "      <td>16.0</td>\n",
       "      <td>MT</td>\n",
       "    </tr>\n",
       "    <tr>\n",
       "      <th>35</th>\n",
       "      <td>289</td>\n",
       "      <td>2014</td>\n",
       "      <td>37.0</td>\n",
       "      <td>MT</td>\n",
       "    </tr>\n",
       "    <tr>\n",
       "      <th>36</th>\n",
       "      <td>215</td>\n",
       "      <td>2008</td>\n",
       "      <td>74.0</td>\n",
       "      <td>MT</td>\n",
       "    </tr>\n",
       "    <tr>\n",
       "      <th>37</th>\n",
       "      <td>190</td>\n",
       "      <td>2008</td>\n",
       "      <td>65.0</td>\n",
       "      <td>MT</td>\n",
       "    </tr>\n",
       "    <tr>\n",
       "      <th>38</th>\n",
       "      <td>277</td>\n",
       "      <td>2011</td>\n",
       "      <td>51.0</td>\n",
       "      <td>MT</td>\n",
       "    </tr>\n",
       "    <tr>\n",
       "      <th>39</th>\n",
       "      <td>175</td>\n",
       "      <td>2006</td>\n",
       "      <td>110.0</td>\n",
       "      <td>MT</td>\n",
       "    </tr>\n",
       "    <tr>\n",
       "      <th>40</th>\n",
       "      <td>399</td>\n",
       "      <td>2011</td>\n",
       "      <td>58.0</td>\n",
       "      <td>AT</td>\n",
       "    </tr>\n",
       "    <tr>\n",
       "      <th>41</th>\n",
       "      <td>350</td>\n",
       "      <td>2011</td>\n",
       "      <td>70.0</td>\n",
       "      <td>AT</td>\n",
       "    </tr>\n",
       "    <tr>\n",
       "      <th>42</th>\n",
       "      <td>365</td>\n",
       "      <td>2012</td>\n",
       "      <td>14.0</td>\n",
       "      <td>AT</td>\n",
       "    </tr>\n",
       "    <tr>\n",
       "      <th>43</th>\n",
       "      <td>379</td>\n",
       "      <td>2012</td>\n",
       "      <td>55.0</td>\n",
       "      <td>AT</td>\n",
       "    </tr>\n",
       "  </tbody>\n",
       "</table>\n",
       "</div>"
      ],
      "text/plain": [
       "    price  year  mileage auto\n",
       "0     250  2010     67.0   MT\n",
       "1     365  2013     59.0   MT\n",
       "2     365  2013     59.0   MT\n",
       "3     250  2009     95.0   MT\n",
       "4     310  2011     76.5   MT\n",
       "5     125  2007    203.0   MT\n",
       "6     150  2006    146.0   MT\n",
       "7     225  2008     83.0   MT\n",
       "8     269  2013     71.0   MT\n",
       "9     250  2010    175.0   MT\n",
       "10    410  2014     21.0   MT\n",
       "11    219  2008    140.0   MT\n",
       "12    165  2006    146.0   MT\n",
       "13    250  2011     93.0   MT\n",
       "14    250  2009     75.0   MT\n",
       "15    159  2006    187.0   MT\n",
       "16    495  2015     52.0   AT\n",
       "17    180  2006    155.0   MT\n",
       "18    145  2013     35.0   MT\n",
       "19    217  2008     78.0   MT\n",
       "20    275  2010     98.0   MT\n",
       "21    170  2006    100.0   MT\n",
       "22    169  2009     87.0   MT\n",
       "23    335  2013     63.0   MT\n",
       "24    235  2011     64.0   MT\n",
       "25    150  2006    150.0   MT\n",
       "26    240  2010     83.0   MT\n",
       "27    145  2007    138.0   MT\n",
       "28    140  2011     65.0   MT\n",
       "29    215  2008     74.0   MT\n",
       "30    190  2008     65.0   MT\n",
       "31    277  2011     51.0   MT\n",
       "32    175  2006    110.0   MT\n",
       "33    249  2012    113.0   MT\n",
       "34    419  2014     16.0   MT\n",
       "35    289  2014     37.0   MT\n",
       "36    215  2008     74.0   MT\n",
       "37    190  2008     65.0   MT\n",
       "38    277  2011     51.0   MT\n",
       "39    175  2006    110.0   MT\n",
       "40    399  2011     58.0   AT\n",
       "41    350  2011     70.0   AT\n",
       "42    365  2012     14.0   AT\n",
       "43    379  2012     55.0   AT"
      ]
     },
     "execution_count": 235,
     "metadata": {},
     "output_type": "execute_result"
    }
   ],
   "source": [
    "data = pd.read_csv('https://stepik.org/media/attachments/lesson/26278/car_regr.txt', sep = '\\t')\n",
    "data"
   ]
  },
  {
   "cell_type": "code",
   "execution_count": 236,
   "id": "a66cacb3",
   "metadata": {},
   "outputs": [],
   "source": [
    "year = np.array(data['year']).reshape(-1, 1)\n",
    "price = np.array(data['price']).reshape(-1, 1)\n",
    "n = len(price)"
   ]
  },
  {
   "cell_type": "code",
   "execution_count": 237,
   "id": "671ebfad",
   "metadata": {},
   "outputs": [
    {
     "data": {
      "text/plain": [
       "LinearRegression()"
      ]
     },
     "execution_count": 237,
     "metadata": {},
     "output_type": "execute_result"
    }
   ],
   "source": [
    "linreg = LinearRegression()\n",
    "linreg.fit(y=price, X=year)"
   ]
  },
  {
   "cell_type": "markdown",
   "id": "df60e6e4",
   "metadata": {},
   "source": [
    "beta1"
   ]
  },
  {
   "cell_type": "code",
   "execution_count": 238,
   "id": "80167559",
   "metadata": {},
   "outputs": [
    {
     "data": {
      "text/plain": [
       "array([26.04339938])"
      ]
     },
     "execution_count": 238,
     "metadata": {},
     "output_type": "execute_result"
    }
   ],
   "source": [
    "beta1 = linreg.coef_[0]\n",
    "beta1"
   ]
  },
  {
   "cell_type": "markdown",
   "id": "e6f4fe9f",
   "metadata": {},
   "source": [
    "beta0"
   ]
  },
  {
   "cell_type": "code",
   "execution_count": 239,
   "id": "4dc17c03",
   "metadata": {},
   "outputs": [
    {
     "data": {
      "text/plain": [
       "array([-52090.26932288])"
      ]
     },
     "execution_count": 239,
     "metadata": {},
     "output_type": "execute_result"
    }
   ],
   "source": [
    "beta0 = linreg.intercept_\n",
    "beta0"
   ]
  },
  {
   "cell_type": "markdown",
   "id": "5c0601aa",
   "metadata": {},
   "source": [
    "Найдите остаток, соответствующий первому наблюдению"
   ]
  },
  {
   "cell_type": "code",
   "execution_count": 240,
   "id": "275852c5",
   "metadata": {},
   "outputs": [
    {
     "data": {
      "text/plain": [
       "array([-6.9634226])"
      ]
     },
     "execution_count": 240,
     "metadata": {},
     "output_type": "execute_result"
    }
   ],
   "source": [
    "price[0][0] - (beta0 + beta1*year[0][0])"
   ]
  },
  {
   "cell_type": "markdown",
   "id": "0ddb42a1",
   "metadata": {},
   "source": [
    "Найдите остаточную сумму квадратов RSS "
   ]
  },
  {
   "cell_type": "code",
   "execution_count": 157,
   "id": "0d459a1e",
   "metadata": {},
   "outputs": [
    {
     "data": {
      "text/plain": [
       "array([132015.31925394])"
      ]
     },
     "execution_count": 157,
     "metadata": {},
     "output_type": "execute_result"
    }
   ],
   "source": [
    "rss = sum(map(lambda x: (x[0][0] - (beta0 + beta1*x[1][0]))**2, zip(price, year)))\n",
    "rss"
   ]
  },
  {
   "cell_type": "code",
   "execution_count": 103,
   "id": "09723bb1",
   "metadata": {},
   "outputs": [
    {
     "data": {
      "image/png": "[encoded data removed]",
      "text/plain": [
       "<Figure size 640x480 with 1 Axes>"
      ]
     },
     "metadata": {},
     "output_type": "display_data"
    }
   ],
   "source": [
    "y_pred = linreg.predict(year)\n",
    "plt.scatter(year, price)\n",
    "plt.plot(year, y_pred, 'r')\n",
    "plt.show()"
   ]
  },
  {
   "cell_type": "markdown",
   "id": "64add780",
   "metadata": {},
   "source": [
    "Оценка дисперсии ошибок наблюдений"
   ]
  },
  {
   "cell_type": "code",
   "execution_count": 160,
   "id": "65132249",
   "metadata": {},
   "outputs": [
    {
     "data": {
      "text/plain": [
       "56.06444405323695"
      ]
     },
     "execution_count": 160,
     "metadata": {},
     "output_type": "execute_result"
    }
   ],
   "source": [
    "S2 = rss/(n-2)\n",
    "S = S2[0]**0.5\n",
    "S"
   ]
  },
  {
   "cell_type": "markdown",
   "id": "96f68f96",
   "metadata": {},
   "source": [
    "Найдите точность 95%го доверительного интервала для параметра beta1\n",
    " "
   ]
  },
  {
   "cell_type": "code",
   "execution_count": 206,
   "id": "f9f13b6a",
   "metadata": {},
   "outputs": [
    {
     "data": {
      "text/plain": [
       "6.3935748187600945"
      ]
     },
     "execution_count": 206,
     "metadata": {},
     "output_type": "execute_result"
    }
   ],
   "source": [
    "quantile = sps.t.ppf(1-alpha/2, n-2)\n",
    "quantile*S*np.sqrt(1/(n*np.std(year)**2))"
   ]
  },
  {
   "cell_type": "markdown",
   "id": "9e91db04",
   "metadata": {},
   "source": [
    "Найдите прогноз цены  автомобиля 2012 года выпуска"
   ]
  },
  {
   "cell_type": "code",
   "execution_count": 247,
   "id": "ca8bb591",
   "metadata": {},
   "outputs": [
    {
     "data": {
      "text/plain": [
       "309.05022135133186"
      ]
     },
     "execution_count": 247,
     "metadata": {},
     "output_type": "execute_result"
    }
   ],
   "source": [
    "P = (beta0 + beta1*2012)[0]\n",
    "P"
   ]
  },
  {
   "cell_type": "markdown",
   "id": "36bb75c2",
   "metadata": {},
   "source": [
    "Какова вероятность того, что цена  автомобиля Logan 2012 года выпуска будет меньше 290 тыс. руб?"
   ]
  },
  {
   "cell_type": "code",
   "execution_count": 264,
   "id": "f4ec2bf3",
   "metadata": {},
   "outputs": [
    {
     "data": {
      "text/plain": [
       "0.04481701961777995"
      ]
     },
     "execution_count": 264,
     "metadata": {},
     "output_type": "execute_result"
    }
   ],
   "source": [
    "x = (sum(year)/len(year))[0]\n",
    "d = np.std(year)**2\n",
    "x, d\n",
    "Z = (P - 290)/(S*np.sqrt((1+(2012-x)**2/d)/n))\n",
    "1 - sps.t.cdf(Z, n-2)\n"
   ]
  }
 ],
 "metadata": {
  "kernelspec": {
   "display_name": "Python 3 (ipykernel)",
   "language": "python",
   "name": "python3"
  },
  "language_info": {
   "codemirror_mode": {
    "name": "ipython",
    "version": 3
   },
   "file_extension": ".py",
   "mimetype": "text/x-python",
   "name": "python",
   "nbconvert_exporter": "python",
   "pygments_lexer": "ipython3",
   "version": "3.7.9"
  }
 },
 "nbformat": 4,
 "nbformat_minor": 5
}
