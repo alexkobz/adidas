{
 "cells": [
  {
   "cell_type": "markdown",
   "id": "f3de0bd4",
   "metadata": {},
   "source": [
    "# 7.3 Корреляционный анализ"
   ]
  },
  {
   "cell_type": "code",
   "execution_count": 1,
   "id": "93ed3617",
   "metadata": {},
   "outputs": [],
   "source": [
    "import scipy.stats as sps\n",
    "import numpy as np"
   ]
  },
  {
   "cell_type": "markdown",
   "id": "dfc4ed72",
   "metadata": {},
   "source": [
    "найдите выборочный коэффициент корреляции Пирсона"
   ]
  },
  {
   "cell_type": "code",
   "execution_count": 5,
   "id": "9de5b77d",
   "metadata": {},
   "outputs": [],
   "source": [
    "X = np.array([3.25, 2.51, 1.46, 2.37, 2.45, -0.07, 3.78, 0.53, 2.09, 1.74])\n",
    "Y = np.array([0.62, 0.95, 0.37, 1.64, 0.60, 0.19, 1.81, 0.24, 1.26, -0.93])\n",
    "n = len(X)"
   ]
  },
  {
   "cell_type": "code",
   "execution_count": 9,
   "id": "1f74fd6a",
   "metadata": {},
   "outputs": [
    {
     "data": {
      "text/plain": [
       "0.5621846665498428"
      ]
     },
     "execution_count": 9,
     "metadata": {},
     "output_type": "execute_result"
    }
   ],
   "source": [
    "avgX = np.average(X)\n",
    "avgY = np.average(Y)\n",
    "stdX = np.std(X)\n",
    "stdY = np.std(Y)\n",
    "s = sum(map(lambda x: (x[0] - avgX)*(x[1] - avgY), zip(X, Y)))\n",
    "# sY = sum(map(lambda x: x - avgY, Y))\n",
    "pirson = 1/n*s/(stdX*stdY)\n",
    "pirson"
   ]
  },
  {
   "cell_type": "markdown",
   "id": "51c89e1b",
   "metadata": {},
   "source": [
    "Зависимы ли компоненты случайного вектора? Проверьте гипотезу с помощью точного критерия"
   ]
  },
  {
   "cell_type": "code",
   "execution_count": 15,
   "id": "3e605194",
   "metadata": {},
   "outputs": [
    {
     "data": {
      "text/plain": [
       "(1.9227035159310695, 1.8595480375228421)"
      ]
     },
     "execution_count": 15,
     "metadata": {},
     "output_type": "execute_result"
    }
   ],
   "source": [
    "alpha = 0.05\n",
    "t = pirson*np.sqrt(n-2)/np.sqrt(1-pirson**2)\n",
    "t, sps.t.ppf(1-alpha, n-2)"
   ]
  },
  {
   "cell_type": "markdown",
   "id": "8a0e5387",
   "metadata": {},
   "source": [
    "найдите коэффициент ранговой корреляции Спирмена"
   ]
  },
  {
   "cell_type": "code",
   "execution_count": 22,
   "id": "013365b0",
   "metadata": {},
   "outputs": [
    {
     "data": {
      "text/plain": [
       "0.9272727272727272"
      ]
     },
     "execution_count": 22,
     "metadata": {},
     "output_type": "execute_result"
    }
   ],
   "source": [
    "d1 = [6, 2, 10, 8, 3, 9, 1, 5, 4, 7]\n",
    "d2 = [10, 6, 8, 2, 3, 9, 1, 5, 7, 4]\n",
    "s = 0\n",
    "for i in range(1, 11):\n",
    "    s += (d1.index(i) - d2.index(i))**2\n",
    "spearman = 1 - 6*s/(n**3 - n)\n",
    "spearman\n",
    "# sps.spearmanr"
   ]
  },
  {
   "cell_type": "markdown",
   "id": "a5a4d46d",
   "metadata": {},
   "source": [
    "найдите коэффициент ранговой корреляции Кенделла"
   ]
  },
  {
   "cell_type": "code",
   "execution_count": 33,
   "id": "47374740",
   "metadata": {},
   "outputs": [
    {
     "data": {
      "text/plain": [
       "0.8222222222222222"
      ]
     },
     "execution_count": 33,
     "metadata": {},
     "output_type": "execute_result"
    }
   ],
   "source": [
    "l1, l2 = [], []\n",
    "for i in range(len(d1)):\n",
    "    for j in range(i+1, len(d1)):\n",
    "        l1.append((d1[i], d1[j]))\n",
    "for i in range(len(d2)):\n",
    "    for j in range(i+1, len(d2)):\n",
    "        l2.append((d2[i], d2[j]))\n",
    "C, D = 0, 0\n",
    "for i in l1:\n",
    "    if i in l2:\n",
    "        C += 1\n",
    "    else:\n",
    "        D += 1\n",
    "kendell = (C - D)/(C + D)\n",
    "kendell"
   ]
  }
 ],
 "metadata": {
  "kernelspec": {
   "display_name": "Python 3 (ipykernel)",
   "language": "python",
   "name": "python3"
  },
  "language_info": {
   "codemirror_mode": {
    "name": "ipython",
    "version": 3
   },
   "file_extension": ".py",
   "mimetype": "text/x-python",
   "name": "python",
   "nbconvert_exporter": "python",
   "pygments_lexer": "ipython3",
   "version": "3.7.9"
  }
 },
 "nbformat": 4,
 "nbformat_minor": 5
}
