{
 "cells": [
  {
   "cell_type": "markdown",
   "id": "5cce9b11",
   "metadata": {},
   "source": [
    "# 5.1 Параметрические критерии однородности"
   ]
  },
  {
   "cell_type": "markdown",
   "id": "a8df48cf",
   "metadata": {},
   "source": [
    "Два токарных автомата изготавливают детали по одному чертежу. Из продукции первого станка было отобрано 9 деталей, а из продукции второго - 11 деталей. Выборочные дисперсии контролируемого  размера, определенные по этим выборкам 5.9мкм\n",
    "2\n",
    "2\n",
    "  и 23.3мкм\n",
    "2\n",
    "2\n",
    " . Найдите квантиль порядка 0.6 распределения статистики критерия для проверки гипотезы о равенстве дисперсий. Предполагаем, что выборки получены из нормально распределенных генеральных совокупностей."
   ]
  },
  {
   "cell_type": "code",
   "execution_count": 4,
   "id": "44ddf8cc",
   "metadata": {},
   "outputs": [],
   "source": [
    "na = 9\n",
    "sa = 5.9\n",
    "nb = 11\n",
    "sb = 23.3\n",
    "alpha = 0.6"
   ]
  },
  {
   "cell_type": "code",
   "execution_count": 7,
   "id": "070024f5",
   "metadata": {},
   "outputs": [
    {
     "data": {
      "text/plain": [
       "1.212827164860947"
      ]
     },
     "execution_count": 7,
     "metadata": {},
     "output_type": "execute_result"
    }
   ],
   "source": [
    "sps.f.ppf(alpha,nb-1,na-1)"
   ]
  },
  {
   "cell_type": "markdown",
   "id": "dbe5381e",
   "metadata": {},
   "source": [
    "выборочное значение статистики с точностью 3 знака после запятой"
   ]
  },
  {
   "cell_type": "code",
   "execution_count": 13,
   "id": "1ed66389",
   "metadata": {},
   "outputs": [
    {
     "data": {
      "text/plain": [
       "3.8613935969868174"
      ]
     },
     "execution_count": 13,
     "metadata": {},
     "output_type": "execute_result"
    }
   ],
   "source": [
    "z = (nb*sb/(nb-1))/(na*sa/(na-1))\n",
    "z"
   ]
  },
  {
   "cell_type": "markdown",
   "id": "b3fb92ab",
   "metadata": {},
   "source": [
    "Найдите p-значение"
   ]
  },
  {
   "cell_type": "code",
   "execution_count": 29,
   "id": "20b470c2",
   "metadata": {},
   "outputs": [
    {
     "data": {
      "text/plain": [
       "0.184029743426239"
      ]
     },
     "execution_count": 29,
     "metadata": {},
     "output_type": "execute_result"
    }
   ],
   "source": [
    "alpha = 0.01\n",
    "x1 = 12.57\n",
    "d1 = 0.91\n",
    "n1 = 16\n",
    "s1 = n1*d1/(n1-1)\n",
    "x2 = 11.87\n",
    "d2 = 1.51\n",
    "n2 = 9\n",
    "s2 = n2*d2/(n2-1)\n",
    "a1 = s1/n1\n",
    "a2 = s2/n2\n",
    "t = (x1 - x2)/np.sqrt(a1+a2)\n",
    "K = ((a1 + a2)**2)/(a1*a1/(n1-1) + a2*a2/(n2-1))\n",
    "p_value = 2*(min(sps.t.cdf(t, K), 1-sps.t.cdf(t, K)))\n",
    "p_value"
   ]
  }
 ],
 "metadata": {
  "kernelspec": {
   "display_name": "Python 3 (ipykernel)",
   "language": "python",
   "name": "python3"
  },
  "language_info": {
   "codemirror_mode": {
    "name": "ipython",
    "version": 3
   },
   "file_extension": ".py",
   "mimetype": "text/x-python",
   "name": "python",
   "nbconvert_exporter": "python",
   "pygments_lexer": "ipython3",
   "version": "3.7.9"
  }
 },
 "nbformat": 4,
 "nbformat_minor": 5
}
