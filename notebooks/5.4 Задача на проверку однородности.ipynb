{
 "cells": [
  {
   "cell_type": "markdown",
   "id": "2b95b22e",
   "metadata": {},
   "source": [
    "# 5.4 Задача на проверку однородности"
   ]
  },
  {
   "cell_type": "code",
   "execution_count": 6,
   "id": "685c7e90",
   "metadata": {},
   "outputs": [],
   "source": [
    "import scipy.stats as sps\n",
    "import numpy as np\n",
    "import pandas as pd"
   ]
  },
  {
   "cell_type": "markdown",
   "id": "565af107",
   "metadata": {},
   "source": [
    "Сравните среднюю продолжительность успешных проходов в 10 матчах по рэгби."
   ]
  },
  {
   "cell_type": "code",
   "execution_count": 21,
   "id": "29d196e0",
   "metadata": {},
   "outputs": [],
   "source": [
    "alpha = 0.05\n",
    "k = 10\n",
    "data = pd.read_csv('https://stepik.org/media/attachments/lesson/27765/rugby.txt', sep='\\t')\n",
    "N = len(data) \n",
    "d = {}\n",
    "for i in zip(data['Game'], data['Time']):\n",
    "    if int(i[0]) not in d.keys():\n",
    "        d[int(i[0])] = np.array([float(i[1])])\n",
    "    else:\n",
    "        d[int(i[0])] = np.append(d[int(i[0])], float(i[1]))"
   ]
  },
  {
   "cell_type": "markdown",
   "id": "8909c2cc",
   "metadata": {},
   "source": [
    "Чему равна квантиль распределения статистики критерия, входящий в определение критической области?"
   ]
  },
  {
   "cell_type": "code",
   "execution_count": 22,
   "id": "8286df0f",
   "metadata": {},
   "outputs": [
    {
     "data": {
      "text/plain": [
       "1.889525776660891"
      ]
     },
     "execution_count": 22,
     "metadata": {},
     "output_type": "execute_result"
    }
   ],
   "source": [
    "q = sps.f.ppf(1-alpha, k-1, N-k)\n",
    "q"
   ]
  },
  {
   "cell_type": "code",
   "execution_count": 23,
   "id": "f3cf421e",
   "metadata": {},
   "outputs": [],
   "source": [
    "def Q1Q2(*x):\n",
    "    n = np.array([len(xi) for xi in x]) # объемы выборок\n",
    "    N = n.sum()\n",
    "    \n",
    "    xms = [xi.mean() for xi in x] # средние выборок\n",
    "    xm = sum([xi.sum() for xi in x])/N # средняя по всем выборкам\n",
    "    \n",
    "    Q1 = sum([((xi-xmi)**2).sum() for xi, xmi in zip(x,xms)])\n",
    "    Q2 = np.dot(n, (xms-xm)**2)\n",
    "    \n",
    "    return Q1, Q2, N"
   ]
  },
  {
   "cell_type": "code",
   "execution_count": 30,
   "id": "4c09d5f8",
   "metadata": {},
   "outputs": [
    {
     "data": {
      "text/plain": [
       "3.8867057658980033"
      ]
     },
     "execution_count": 30,
     "metadata": {},
     "output_type": "execute_result"
    }
   ],
   "source": [
    "Q1, Q2, N = Q1Q2(d[1],d[2],d[3],d[4],d[5],d[6],d[7],d[8],d[9],d[10])\n",
    "Fb = Q2/(k-1)/(Q1/(N-k))\n",
    "F = sps.f.cdf(1-alpha, k-1, N-k)\n",
    "Fb"
   ]
  },
  {
   "cell_type": "code",
   "execution_count": 25,
   "id": "3ff1cce5",
   "metadata": {},
   "outputs": [
    {
     "data": {
      "text/plain": [
       "(3.8867057658980033, True)"
      ]
     },
     "execution_count": 25,
     "metadata": {},
     "output_type": "execute_result"
    }
   ],
   "source": [
    "Fb, Fb > F"
   ]
  }
 ],
 "metadata": {
  "kernelspec": {
   "display_name": "Python 3 (ipykernel)",
   "language": "python",
   "name": "python3"
  },
  "language_info": {
   "codemirror_mode": {
    "name": "ipython",
    "version": 3
   },
   "file_extension": ".py",
   "mimetype": "text/x-python",
   "name": "python",
   "nbconvert_exporter": "python",
   "pygments_lexer": "ipython3",
   "version": "3.7.9"
  }
 },
 "nbformat": 4,
 "nbformat_minor": 5
}
