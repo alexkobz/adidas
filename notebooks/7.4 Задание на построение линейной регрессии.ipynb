{
 "cells": [
  {
   "cell_type": "markdown",
   "id": "3b5ce2b7",
   "metadata": {},
   "source": [
    "# 7.4 Задание на построение линейной регрессии"
   ]
  },
  {
   "cell_type": "markdown",
   "id": "5aeee2ce",
   "metadata": {},
   "source": [
    "Постройте линейную регрессионную модель зависимости веса новорожденного от расы и образования матери, срока беременности, а также информации о курении матери во время беременности."
   ]
  },
  {
   "cell_type": "code",
   "execution_count": 100,
   "id": "079eb30b",
   "metadata": {},
   "outputs": [],
   "source": [
    "import scipy.stats as sps\n",
    "import numpy as np\n",
    "import pandas as pd\n",
    "from sklearn.linear_model import LinearRegression"
   ]
  },
  {
   "cell_type": "code",
   "execution_count": 101,
   "id": "15941d59",
   "metadata": {},
   "outputs": [
    {
     "data": {
      "text/html": [
       "<div>\n",
       "<style scoped>\n",
       "    .dataframe tbody tr th:only-of-type {\n",
       "        vertical-align: middle;\n",
       "    }\n",
       "\n",
       "    .dataframe tbody tr th {\n",
       "        vertical-align: top;\n",
       "    }\n",
       "\n",
       "    .dataframe thead th {\n",
       "        text-align: right;\n",
       "    }\n",
       "</style>\n",
       "<table border=\"1\" class=\"dataframe\">\n",
       "  <thead>\n",
       "    <tr style=\"text-align: right;\">\n",
       "      <th></th>\n",
       "      <th>race</th>\n",
       "      <th>educ</th>\n",
       "      <th>smoke</th>\n",
       "      <th>preg</th>\n",
       "      <th>weight</th>\n",
       "    </tr>\n",
       "  </thead>\n",
       "  <tbody>\n",
       "    <tr>\n",
       "      <th>0</th>\n",
       "      <td>1</td>\n",
       "      <td>8</td>\n",
       "      <td>0</td>\n",
       "      <td>39</td>\n",
       "      <td>3670</td>\n",
       "    </tr>\n",
       "    <tr>\n",
       "      <th>1</th>\n",
       "      <td>1</td>\n",
       "      <td>9</td>\n",
       "      <td>1</td>\n",
       "      <td>38</td>\n",
       "      <td>2775</td>\n",
       "    </tr>\n",
       "    <tr>\n",
       "      <th>2</th>\n",
       "      <td>1</td>\n",
       "      <td>9</td>\n",
       "      <td>0</td>\n",
       "      <td>38</td>\n",
       "      <td>2680</td>\n",
       "    </tr>\n",
       "    <tr>\n",
       "      <th>3</th>\n",
       "      <td>1</td>\n",
       "      <td>9</td>\n",
       "      <td>0</td>\n",
       "      <td>37</td>\n",
       "      <td>2699</td>\n",
       "    </tr>\n",
       "    <tr>\n",
       "      <th>4</th>\n",
       "      <td>1</td>\n",
       "      <td>9</td>\n",
       "      <td>1</td>\n",
       "      <td>38</td>\n",
       "      <td>2557</td>\n",
       "    </tr>\n",
       "    <tr>\n",
       "      <th>...</th>\n",
       "      <td>...</td>\n",
       "      <td>...</td>\n",
       "      <td>...</td>\n",
       "      <td>...</td>\n",
       "      <td>...</td>\n",
       "    </tr>\n",
       "    <tr>\n",
       "      <th>95</th>\n",
       "      <td>0</td>\n",
       "      <td>16</td>\n",
       "      <td>0</td>\n",
       "      <td>38</td>\n",
       "      <td>3097</td>\n",
       "    </tr>\n",
       "    <tr>\n",
       "      <th>96</th>\n",
       "      <td>1</td>\n",
       "      <td>16</td>\n",
       "      <td>0</td>\n",
       "      <td>39</td>\n",
       "      <td>4091</td>\n",
       "    </tr>\n",
       "    <tr>\n",
       "      <th>97</th>\n",
       "      <td>1</td>\n",
       "      <td>16</td>\n",
       "      <td>0</td>\n",
       "      <td>40</td>\n",
       "      <td>3381</td>\n",
       "    </tr>\n",
       "    <tr>\n",
       "      <th>98</th>\n",
       "      <td>0</td>\n",
       "      <td>16</td>\n",
       "      <td>0</td>\n",
       "      <td>40</td>\n",
       "      <td>2727</td>\n",
       "    </tr>\n",
       "    <tr>\n",
       "      <th>99</th>\n",
       "      <td>0</td>\n",
       "      <td>15</td>\n",
       "      <td>0</td>\n",
       "      <td>39</td>\n",
       "      <td>3523</td>\n",
       "    </tr>\n",
       "  </tbody>\n",
       "</table>\n",
       "<p>100 rows × 5 columns</p>\n",
       "</div>"
      ],
      "text/plain": [
       "    race  educ  smoke  preg  weight\n",
       "0      1     8      0    39    3670\n",
       "1      1     9      1    38    2775\n",
       "2      1     9      0    38    2680\n",
       "3      1     9      0    37    2699\n",
       "4      1     9      1    38    2557\n",
       "..   ...   ...    ...   ...     ...\n",
       "95     0    16      0    38    3097\n",
       "96     1    16      0    39    4091\n",
       "97     1    16      0    40    3381\n",
       "98     0    16      0    40    2727\n",
       "99     0    15      0    39    3523\n",
       "\n",
       "[100 rows x 5 columns]"
      ]
     },
     "execution_count": 101,
     "metadata": {},
     "output_type": "execute_result"
    }
   ],
   "source": [
    "data = pd.read_csv(r'https://stepik.org/media/attachments/lesson/28461/weights.txt', sep='\\t')\n",
    "data"
   ]
  },
  {
   "cell_type": "code",
   "execution_count": 102,
   "id": "e55d497c",
   "metadata": {},
   "outputs": [],
   "source": [
    "weight = np.array(data['weight']).reshape(-1, 1)\n",
    "race = np.array(data['race'])\n",
    "educ = np.array(data['educ'])\n",
    "smoke = np.array(data['smoke'])\n",
    "preg = np.array(data['preg'])\n",
    "n = len(data)\n",
    "k = 4"
   ]
  },
  {
   "cell_type": "code",
   "execution_count": 103,
   "id": "d0248135",
   "metadata": {},
   "outputs": [
    {
     "data": {
      "text/plain": [
       "LinearRegression()"
      ]
     },
     "execution_count": 103,
     "metadata": {},
     "output_type": "execute_result"
    }
   ],
   "source": [
    "linreg = LinearRegression()\n",
    "X = pd.DataFrame({'race': race, 'educ': educ, 'smoke': smoke, 'preg': preg})\n",
    "linreg.fit(y=weight, X=X)"
   ]
  },
  {
   "cell_type": "markdown",
   "id": "d27abb42",
   "metadata": {},
   "source": [
    "betas"
   ]
  },
  {
   "cell_type": "code",
   "execution_count": 104,
   "id": "1e537779",
   "metadata": {},
   "outputs": [
    {
     "data": {
      "text/plain": [
       "(array([-2841.37767615]), -211.57152450692422)"
      ]
     },
     "execution_count": 104,
     "metadata": {},
     "output_type": "execute_result"
    }
   ],
   "source": [
    "beta0 = linreg.intercept_\n",
    "beta1 = linreg.coef_[0][0]\n",
    "beta2 = linreg.coef_[0][1]\n",
    "beta3 = linreg.coef_[0][2]\n",
    "beta4 = linreg.coef_[0][3]\n",
    "beta0, beta1"
   ]
  },
  {
   "cell_type": "markdown",
   "id": "e33a0f84",
   "metadata": {},
   "source": [
    "Найдите оценку дисперсии ошибок наблюдений"
   ]
  },
  {
   "cell_type": "code",
   "execution_count": 105,
   "id": "3ec44f4d",
   "metadata": {},
   "outputs": [
    {
     "data": {
      "text/plain": [
       "193390.2861174859"
      ]
     },
     "execution_count": 105,
     "metadata": {},
     "output_type": "execute_result"
    }
   ],
   "source": [
    "rss = sum(map(lambda x: (x[0] - (beta0 + beta1*x[1] + beta2*x[2] + beta3*x[3] + beta4*x[4]))**2, zip(weight,  X['race'], X['educ'], X['smoke'], X['preg'])))\n",
    "S2 = rss[0]/(n - k - 1)\n",
    "S = np.sqrt(S2)\n",
    "S2"
   ]
  },
  {
   "cell_type": "markdown",
   "id": "5d855927",
   "metadata": {},
   "source": [
    "Найдите точность 95% доверительного интервала для параметра при сроке беременности"
   ]
  },
  {
   "cell_type": "code",
   "execution_count": 106,
   "id": "93aacd7e",
   "metadata": {},
   "outputs": [
    {
     "data": {
      "text/plain": [
       "55.38424956674616"
      ]
     },
     "execution_count": 106,
     "metadata": {},
     "output_type": "execute_result"
    }
   ],
   "source": [
    "A = np.matrix(pd.DataFrame({'1': np.ones(n),'race': race, 'educ': educ, 'smoke': smoke, 'preg': preg}))\n",
    "AT = A.transpose()\n",
    "alpha = 0.05\n",
    "sps.t.ppf(1-alpha/2, n-k-1)*S*np.sqrt(np.linalg.pinv(np.dot(AT, A))[4,4])"
   ]
  },
  {
   "cell_type": "markdown",
   "id": "fe6570be",
   "metadata": {},
   "source": [
    "Найдите коэффициент детерминации"
   ]
  },
  {
   "cell_type": "code",
   "execution_count": 107,
   "id": "7b3785ce",
   "metadata": {},
   "outputs": [
    {
     "data": {
      "text/plain": [
       "0.3364652117987227"
      ]
     },
     "execution_count": 107,
     "metadata": {},
     "output_type": "execute_result"
    }
   ],
   "source": [
    "x = np.average(weight)\n",
    "R2 = (1 - rss/sum(map(lambda pr: (pr - x)**2, weight))[0])[0]\n",
    "R2"
   ]
  },
  {
   "cell_type": "markdown",
   "id": "cad69271",
   "metadata": {},
   "source": [
    "Найдите p-значение и примите статистическое решение о значимости модели "
   ]
  },
  {
   "cell_type": "code",
   "execution_count": 108,
   "id": "0bd27b41",
   "metadata": {},
   "outputs": [
    {
     "name": "stdout",
     "output_type": "stream",
     "text": [
      "0.0 1\n"
     ]
    }
   ],
   "source": [
    "import statsmodels.api as sm\n",
    "\n",
    "Y = data.weight\n",
    "X = data[['race', 'educ', 'smoke', 'preg']]\n",
    "X = sm.add_constant(X)\n",
    "results = sm.OLS(Y, X).fit()\n",
    "a = 0.05\n",
    "f_pvalue = results.f_pvalue\n",
    "print(round(f_pvalue, 2), 1 if 1 - f_pvalue > a else 0)"
   ]
  },
  {
   "cell_type": "markdown",
   "id": "ee183040",
   "metadata": {},
   "source": [
    "Чему равен коэффициент Акаике построенной модели?"
   ]
  },
  {
   "cell_type": "code",
   "execution_count": 109,
   "id": "692d0e4d",
   "metadata": {},
   "outputs": [
    {
     "data": {
      "text/plain": [
       "array([1320.11723395])"
      ]
     },
     "execution_count": 109,
     "metadata": {},
     "output_type": "execute_result"
    }
   ],
   "source": [
    "AIC = 2*k + n*(np.log(rss/n) + 1)\n",
    "AIC"
   ]
  },
  {
   "cell_type": "markdown",
   "id": "480766ad",
   "metadata": {},
   "source": [
    "Рассмотрите модель зависимости веса новорожденного от расы и срока беременности. Чему равен коэффициент Акаике в данной модели?"
   ]
  },
  {
   "cell_type": "code",
   "execution_count": 112,
   "id": "7fb54571",
   "metadata": {},
   "outputs": [
    {
     "data": {
      "text/plain": [
       "array([1316.6439727])"
      ]
     },
     "execution_count": 112,
     "metadata": {},
     "output_type": "execute_result"
    }
   ],
   "source": [
    "k_new = 2\n",
    "X_new = pd.DataFrame({'race': race, 'preg': preg})\n",
    "linreg_new = LinearRegression()\n",
    "linreg_new.fit(y=weight, X=X_new)\n",
    "beta0_n = linreg_new.intercept_\n",
    "beta1_n = linreg_new.coef_[0][0]\n",
    "beta2_n = linreg_new.coef_[0][1]\n",
    "rss_n = sum(map(lambda x: (x[0] - (beta0_n + beta1_n*x[1] + beta2_n*x[2]))**2, zip(weight,  X_new['race'], X_new['preg'])))\n",
    "# S2 = rss[0]/(n - k - 1)\n",
    "# S = np.sqrt(S2)\n",
    "AIC_n = 2*k_new + n*(np.log(rss_n/n) + 1)\n",
    "AIC_n"
   ]
  }
 ],
 "metadata": {
  "kernelspec": {
   "display_name": "Python 3 (ipykernel)",
   "language": "python",
   "name": "python3"
  },
  "language_info": {
   "codemirror_mode": {
    "name": "ipython",
    "version": 3
   },
   "file_extension": ".py",
   "mimetype": "text/x-python",
   "name": "python",
   "nbconvert_exporter": "python",
   "pygments_lexer": "ipython3",
   "version": "3.7.9"
  }
 },
 "nbformat": 4,
 "nbformat_minor": 5
}
